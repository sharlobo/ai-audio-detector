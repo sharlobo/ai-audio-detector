{
 "cells": [
  {
   "cell_type": "code",
   "execution_count": 1,
   "id": "5f3a47ba",
   "metadata": {},
   "outputs": [
    {
     "name": "stdout",
     "output_type": "stream",
     "text": [
      "Deleted all old .pt files.\n"
     ]
    }
   ],
   "source": [
    "import os\n",
    "\n",
    "folder = \"deepfake_audio_project/data/processed_embeddings/\"\n",
    "\n",
    "for filename in os.listdir(folder):\n",
    "    if filename.endswith(\".pt\"):\n",
    "        os.remove(os.path.join(folder, filename))\n",
    "\n",
    "print(\"Deleted all old .pt files.\")\n"
   ]
  },
  {
   "cell_type": "code",
   "execution_count": null,
   "id": "386c2ff8",
   "metadata": {},
   "outputs": [],
   "source": []
  }
 ],
 "metadata": {
  "kernelspec": {
   "display_name": "Python (wavenv)",
   "language": "python",
   "name": "wavenv"
  },
  "language_info": {
   "codemirror_mode": {
    "name": "ipython",
    "version": 3
   },
   "file_extension": ".py",
   "mimetype": "text/x-python",
   "name": "python",
   "nbconvert_exporter": "python",
   "pygments_lexer": "ipython3",
   "version": "3.9.5"
  }
 },
 "nbformat": 4,
 "nbformat_minor": 5
}
