{
 "cells": [
  {
   "cell_type": "markdown",
   "id": "68cd0f8b",
   "metadata": {},
   "source": [
    "# MLP Classifier - Using DataLoader\n",
    "\n",
    "Repeated the training of a deeper MLP on the 2 second dataset, updated pipeline that uses proper PyTorch DataLoader for batching and shuffling. \n",
    "\n",
    "> Goal was to make training cleaner, more scalable, and memory efficient! "
   ]
  },
  {
   "cell_type": "code",
   "execution_count": 18,
   "id": "5b557bce",
   "metadata": {},
   "outputs": [],
   "source": [
    "# !pip install torch torchvision torchaudio scikit-learn matplotlib tqdm\n",
    "\n",
    "# imports\n",
    "import os\n",
    "import torch\n",
    "import torch.nn as nn\n",
    "import torch.optim as optim\n",
    "from torch.utils.data import Dataset, DataLoader\n",
    "import numpy as np\n",
    "import matplotlib.pyplot as plt\n",
    "from sklearn.metrics import classification_report, confusion_matrix\n",
    "from tqdm import tqdm # for progress bars! \n"
   ]
  },
  {
   "cell_type": "code",
   "execution_count": 19,
   "id": "20367c30",
   "metadata": {},
   "outputs": [
    {
     "name": "stdout",
     "output_type": "stream",
     "text": [
      "Using device: cuda\n"
     ]
    }
   ],
   "source": [
    "# configuration parameters \n",
    "\n",
    "# saved embeddings paths \n",
    "EMBEDDINGS_DIR = \"deepfake_audio_project/data/processed_embeddings\"\n",
    "\n",
    "# hyperparameters \n",
    "BATCH_SIZE = 64 # batch size for dataloader\n",
    "NUM_EPOCHS = 30 # epochs to train\n",
    "LEARNING_RATE = 1e-3 # learning rate\n",
    "DROPOUT_P = 0.3 # dropout\n",
    "\n",
    "# label mapping\n",
    "label_to_idx = {'fake': 0, 'real': 1} # integers\n",
    "\n",
    "# device \n",
    "device = torch.device('cuda' if torch.cuda.is_available() else 'cpu')\n",
    "print(f\"Using device: {device}\")\n"
   ]
  },
  {
   "cell_type": "code",
   "execution_count": 20,
   "id": "383c2841",
   "metadata": {},
   "outputs": [],
   "source": [
    "# custom PyTorch dataset for deepfake audio embeddings \n",
    "class DeepfakeAudioDataset(Dataset):\n",
    "    def __init__(self, embeddings_folder, split, label_to_idx):\n",
    "        self.paths = []\n",
    "        self.labels = []\n",
    "        self.label_to_idx = label_to_idx\n",
    "        self.split = split\n",
    "        \n",
    "        # scan all files and collect split \n",
    "        for file in os.listdir(embeddings_folder):\n",
    "            if file.endswith(\".pt\"):\n",
    "                data = torch.load(os.path.join(embeddings_folder, file))\n",
    "                if data.get(\"split\", None) == split:\n",
    "                    self.paths.append(os.path.join(embeddings_folder, file))\n",
    "                    self.labels.append(label_to_idx[data[\"label\"]])\n",
    "         \n",
    "        # basic error checking \n",
    "        assert len(self.paths) > 0, f\"No files found for split: {split}\"\n",
    "        \n",
    "    def __len__(self):\n",
    "        # total number of samples\n",
    "        return len(self.paths)\n",
    "    \n",
    "    def __getitem__(self, idx):\n",
    "        data = torch.load(self.paths[idx]) # single sample \n",
    "        return data[\"embedding\"], self.labels[idx]\n"
   ]
  },
  {
   "cell_type": "code",
   "execution_count": 21,
   "id": "f73c9f27",
   "metadata": {},
   "outputs": [
    {
     "name": "stdout",
     "output_type": "stream",
     "text": [
      "Train samples: 13612\n",
      "Validation samples: 2720\n",
      "Test samples: 959\n"
     ]
    }
   ],
   "source": [
    "# create datasets objects for splits \n",
    "train_dataset = DeepfakeAudioDataset(EMBEDDINGS_DIR, split=\"training\", label_to_idx=label_to_idx)\n",
    "val_dataset = DeepfakeAudioDataset(EMBEDDINGS_DIR, split=\"validation\", label_to_idx=label_to_idx)\n",
    "test_dataset = DeepfakeAudioDataset(EMBEDDINGS_DIR, split=\"testing\", label_to_idx=label_to_idx)\n",
    "\n",
    "# create DataLoaders - batching and shuffling\n",
    "train_loader = DataLoader(train_dataset, batch_size=BATCH_SIZE, shuffle=True)\n",
    "val_loader = DataLoader(val_dataset, batch_size=BATCH_SIZE, shuffle=False)\n",
    "test_loader = DataLoader(test_dataset, batch_size=BATCH_SIZE, shuffle=False)\n",
    "\n",
    "# print to verify \n",
    "print(f\"Train samples: {len(train_dataset)}\")\n",
    "print(f\"Validation samples: {len(val_dataset)}\")\n",
    "print(f\"Test samples: {len(test_dataset)}\")\n"
   ]
  },
  {
   "cell_type": "code",
   "execution_count": 22,
   "id": "80c5f7fd",
   "metadata": {},
   "outputs": [
    {
     "name": "stdout",
     "output_type": "stream",
     "text": [
      "SuperDeepMLPClassifier(\n",
      "  (net): Sequential(\n",
      "    (0): Linear(in_features=768, out_features=768, bias=True)\n",
      "    (1): BatchNorm1d(768, eps=1e-05, momentum=0.1, affine=True, track_running_stats=True)\n",
      "    (2): ReLU()\n",
      "    (3): Dropout(p=0.3, inplace=False)\n",
      "    (4): Linear(in_features=768, out_features=512, bias=True)\n",
      "    (5): BatchNorm1d(512, eps=1e-05, momentum=0.1, affine=True, track_running_stats=True)\n",
      "    (6): ReLU()\n",
      "    (7): Dropout(p=0.3, inplace=False)\n",
      "    (8): Linear(in_features=512, out_features=256, bias=True)\n",
      "    (9): BatchNorm1d(256, eps=1e-05, momentum=0.1, affine=True, track_running_stats=True)\n",
      "    (10): ReLU()\n",
      "    (11): Dropout(p=0.3, inplace=False)\n",
      "    (12): Linear(in_features=256, out_features=128, bias=True)\n",
      "    (13): BatchNorm1d(128, eps=1e-05, momentum=0.1, affine=True, track_running_stats=True)\n",
      "    (14): ReLU()\n",
      "    (15): Dropout(p=0.3, inplace=False)\n",
      "    (16): Linear(in_features=128, out_features=2, bias=True)\n",
      "  )\n",
      ")\n"
     ]
    }
   ],
   "source": [
    "# deep mlp with batchnorm and dropout\n",
    "class SuperDeepMLPClassifier(nn.Module):\n",
    "    def __init__(self, input_dim, dropout_p=0.3):\n",
    "        super(SuperDeepMLPClassifier, self).__init__()\n",
    "        self.net = nn.Sequential(\n",
    "            nn.Linear(input_dim, 768),\n",
    "            nn.BatchNorm1d(768),\n",
    "            nn.ReLU(),\n",
    "            nn.Dropout(dropout_p),\n",
    "            \n",
    "            nn.Linear(768, 512),\n",
    "            nn.BatchNorm1d(512),\n",
    "            nn.ReLU(),\n",
    "            nn.Dropout(dropout_p),\n",
    "            \n",
    "            nn.Linear(512, 256),\n",
    "            nn.BatchNorm1d(256),\n",
    "            nn.ReLU(),\n",
    "            nn.Dropout(dropout_p),\n",
    "            \n",
    "            nn.Linear(256, 128),\n",
    "            nn.BatchNorm1d(128),\n",
    "            nn.ReLU(),\n",
    "            nn.Dropout(dropout_p),\n",
    "            \n",
    "            nn.Linear(128, 2)  # final output: binary classification\n",
    "        )\n",
    "        \n",
    "    def forward(self, x):\n",
    "        return self.net(x)\n",
    "\n",
    "# instantiate model\n",
    "input_dim = 768  # Wav2Vec2 embeddings size\n",
    "model = SuperDeepMLPClassifier(input_dim=input_dim, dropout_p=DROPOUT_P).to(device)\n",
    "print(model)\n"
   ]
  },
  {
   "cell_type": "code",
   "execution_count": 23,
   "id": "b65fdf73",
   "metadata": {},
   "outputs": [
    {
     "name": "stderr",
     "output_type": "stream",
     "text": [
      "Epoch 1/30 [Training]: 100%|██████████| 213/213 [00:10<00:00, 20.62it/s]\n"
     ]
    },
    {
     "name": "stdout",
     "output_type": "stream",
     "text": [
      "Epoch 1/30 - Train Loss: 0.5121 - Val Acc: 0.7412\n"
     ]
    },
    {
     "name": "stderr",
     "output_type": "stream",
     "text": [
      "Epoch 2/30 [Training]: 100%|██████████| 213/213 [00:10<00:00, 20.75it/s]\n"
     ]
    },
    {
     "name": "stdout",
     "output_type": "stream",
     "text": [
      "Epoch 2/30 - Train Loss: 0.4603 - Val Acc: 0.7500\n"
     ]
    },
    {
     "name": "stderr",
     "output_type": "stream",
     "text": [
      "Epoch 3/30 [Training]: 100%|██████████| 213/213 [00:10<00:00, 21.03it/s]\n"
     ]
    },
    {
     "name": "stdout",
     "output_type": "stream",
     "text": [
      "Epoch 3/30 - Train Loss: 0.4349 - Val Acc: 0.7669\n"
     ]
    },
    {
     "name": "stderr",
     "output_type": "stream",
     "text": [
      "Epoch 4/30 [Training]: 100%|██████████| 213/213 [00:10<00:00, 20.87it/s]\n"
     ]
    },
    {
     "name": "stdout",
     "output_type": "stream",
     "text": [
      "Epoch 4/30 - Train Loss: 0.4228 - Val Acc: 0.7625\n"
     ]
    },
    {
     "name": "stderr",
     "output_type": "stream",
     "text": [
      "Epoch 5/30 [Training]: 100%|██████████| 213/213 [00:09<00:00, 21.34it/s]\n"
     ]
    },
    {
     "name": "stdout",
     "output_type": "stream",
     "text": [
      "Epoch 5/30 - Train Loss: 0.4047 - Val Acc: 0.7621\n"
     ]
    },
    {
     "name": "stderr",
     "output_type": "stream",
     "text": [
      "Epoch 6/30 [Training]: 100%|██████████| 213/213 [00:10<00:00, 20.81it/s]\n"
     ]
    },
    {
     "name": "stdout",
     "output_type": "stream",
     "text": [
      "Epoch 6/30 - Train Loss: 0.3956 - Val Acc: 0.7838\n"
     ]
    },
    {
     "name": "stderr",
     "output_type": "stream",
     "text": [
      "Epoch 7/30 [Training]: 100%|██████████| 213/213 [00:10<00:00, 20.58it/s]\n"
     ]
    },
    {
     "name": "stdout",
     "output_type": "stream",
     "text": [
      "Epoch 7/30 - Train Loss: 0.3862 - Val Acc: 0.7320\n"
     ]
    },
    {
     "name": "stderr",
     "output_type": "stream",
     "text": [
      "Epoch 8/30 [Training]: 100%|██████████| 213/213 [00:10<00:00, 20.99it/s]\n"
     ]
    },
    {
     "name": "stdout",
     "output_type": "stream",
     "text": [
      "Epoch 8/30 - Train Loss: 0.3788 - Val Acc: 0.7754\n"
     ]
    },
    {
     "name": "stderr",
     "output_type": "stream",
     "text": [
      "Epoch 9/30 [Training]: 100%|██████████| 213/213 [00:10<00:00, 21.06it/s]\n"
     ]
    },
    {
     "name": "stdout",
     "output_type": "stream",
     "text": [
      "Epoch 9/30 - Train Loss: 0.3653 - Val Acc: 0.7919\n"
     ]
    },
    {
     "name": "stderr",
     "output_type": "stream",
     "text": [
      "Epoch 10/30 [Training]: 100%|██████████| 213/213 [00:10<00:00, 20.85it/s]\n"
     ]
    },
    {
     "name": "stdout",
     "output_type": "stream",
     "text": [
      "Epoch 10/30 - Train Loss: 0.3591 - Val Acc: 0.7364\n"
     ]
    },
    {
     "name": "stderr",
     "output_type": "stream",
     "text": [
      "Epoch 11/30 [Training]: 100%|██████████| 213/213 [00:10<00:00, 20.36it/s]\n"
     ]
    },
    {
     "name": "stdout",
     "output_type": "stream",
     "text": [
      "Epoch 11/30 - Train Loss: 0.3529 - Val Acc: 0.7963\n"
     ]
    },
    {
     "name": "stderr",
     "output_type": "stream",
     "text": [
      "Epoch 12/30 [Training]: 100%|██████████| 213/213 [00:10<00:00, 21.08it/s]\n"
     ]
    },
    {
     "name": "stdout",
     "output_type": "stream",
     "text": [
      "Epoch 12/30 - Train Loss: 0.3398 - Val Acc: 0.8129\n"
     ]
    },
    {
     "name": "stderr",
     "output_type": "stream",
     "text": [
      "Epoch 13/30 [Training]: 100%|██████████| 213/213 [00:10<00:00, 20.78it/s]\n"
     ]
    },
    {
     "name": "stdout",
     "output_type": "stream",
     "text": [
      "Epoch 13/30 - Train Loss: 0.3339 - Val Acc: 0.8099\n"
     ]
    },
    {
     "name": "stderr",
     "output_type": "stream",
     "text": [
      "Epoch 14/30 [Training]: 100%|██████████| 213/213 [00:10<00:00, 20.99it/s]\n"
     ]
    },
    {
     "name": "stdout",
     "output_type": "stream",
     "text": [
      "Epoch 14/30 - Train Loss: 0.3273 - Val Acc: 0.7923\n"
     ]
    },
    {
     "name": "stderr",
     "output_type": "stream",
     "text": [
      "Epoch 15/30 [Training]: 100%|██████████| 213/213 [00:10<00:00, 21.00it/s]\n"
     ]
    },
    {
     "name": "stdout",
     "output_type": "stream",
     "text": [
      "Epoch 15/30 - Train Loss: 0.3207 - Val Acc: 0.7934\n"
     ]
    },
    {
     "name": "stderr",
     "output_type": "stream",
     "text": [
      "Epoch 16/30 [Training]: 100%|██████████| 213/213 [00:10<00:00, 21.00it/s]\n"
     ]
    },
    {
     "name": "stdout",
     "output_type": "stream",
     "text": [
      "Epoch 16/30 - Train Loss: 0.3159 - Val Acc: 0.8033\n"
     ]
    },
    {
     "name": "stderr",
     "output_type": "stream",
     "text": [
      "Epoch 17/30 [Training]: 100%|██████████| 213/213 [00:10<00:00, 20.46it/s]\n"
     ]
    },
    {
     "name": "stdout",
     "output_type": "stream",
     "text": [
      "Epoch 17/30 - Train Loss: 0.3047 - Val Acc: 0.7989\n"
     ]
    },
    {
     "name": "stderr",
     "output_type": "stream",
     "text": [
      "Epoch 18/30 [Training]: 100%|██████████| 213/213 [00:09<00:00, 21.43it/s]\n"
     ]
    },
    {
     "name": "stdout",
     "output_type": "stream",
     "text": [
      "Epoch 18/30 - Train Loss: 0.2995 - Val Acc: 0.8033\n"
     ]
    },
    {
     "name": "stderr",
     "output_type": "stream",
     "text": [
      "Epoch 19/30 [Training]: 100%|██████████| 213/213 [00:09<00:00, 21.43it/s]\n"
     ]
    },
    {
     "name": "stdout",
     "output_type": "stream",
     "text": [
      "Epoch 19/30 - Train Loss: 0.2879 - Val Acc: 0.8015\n"
     ]
    },
    {
     "name": "stderr",
     "output_type": "stream",
     "text": [
      "Epoch 20/30 [Training]: 100%|██████████| 213/213 [00:10<00:00, 21.11it/s]\n"
     ]
    },
    {
     "name": "stdout",
     "output_type": "stream",
     "text": [
      "Epoch 20/30 - Train Loss: 0.2836 - Val Acc: 0.7787\n"
     ]
    },
    {
     "name": "stderr",
     "output_type": "stream",
     "text": [
      "Epoch 21/30 [Training]: 100%|██████████| 213/213 [00:10<00:00, 20.72it/s]\n"
     ]
    },
    {
     "name": "stdout",
     "output_type": "stream",
     "text": [
      "Epoch 21/30 - Train Loss: 0.2728 - Val Acc: 0.7890\n"
     ]
    },
    {
     "name": "stderr",
     "output_type": "stream",
     "text": [
      "Epoch 22/30 [Training]: 100%|██████████| 213/213 [00:10<00:00, 21.20it/s]\n"
     ]
    },
    {
     "name": "stdout",
     "output_type": "stream",
     "text": [
      "Epoch 22/30 - Train Loss: 0.2692 - Val Acc: 0.7574\n"
     ]
    },
    {
     "name": "stderr",
     "output_type": "stream",
     "text": [
      "Epoch 23/30 [Training]: 100%|██████████| 213/213 [00:10<00:00, 21.23it/s]\n"
     ]
    },
    {
     "name": "stdout",
     "output_type": "stream",
     "text": [
      "Epoch 23/30 - Train Loss: 0.2630 - Val Acc: 0.7882\n"
     ]
    },
    {
     "name": "stderr",
     "output_type": "stream",
     "text": [
      "Epoch 24/30 [Training]: 100%|██████████| 213/213 [00:10<00:00, 20.87it/s]\n"
     ]
    },
    {
     "name": "stdout",
     "output_type": "stream",
     "text": [
      "Epoch 24/30 - Train Loss: 0.2552 - Val Acc: 0.8007\n"
     ]
    },
    {
     "name": "stderr",
     "output_type": "stream",
     "text": [
      "Epoch 25/30 [Training]: 100%|██████████| 213/213 [00:10<00:00, 20.94it/s]\n"
     ]
    },
    {
     "name": "stdout",
     "output_type": "stream",
     "text": [
      "Epoch 25/30 - Train Loss: 0.2470 - Val Acc: 0.8147\n"
     ]
    },
    {
     "name": "stderr",
     "output_type": "stream",
     "text": [
      "Epoch 26/30 [Training]: 100%|██████████| 213/213 [00:10<00:00, 20.97it/s]\n"
     ]
    },
    {
     "name": "stdout",
     "output_type": "stream",
     "text": [
      "Epoch 26/30 - Train Loss: 0.2465 - Val Acc: 0.7838\n"
     ]
    },
    {
     "name": "stderr",
     "output_type": "stream",
     "text": [
      "Epoch 27/30 [Training]: 100%|██████████| 213/213 [00:10<00:00, 20.10it/s]\n"
     ]
    },
    {
     "name": "stdout",
     "output_type": "stream",
     "text": [
      "Epoch 27/30 - Train Loss: 0.2371 - Val Acc: 0.7960\n"
     ]
    },
    {
     "name": "stderr",
     "output_type": "stream",
     "text": [
      "Epoch 28/30 [Training]: 100%|██████████| 213/213 [00:10<00:00, 20.77it/s]\n"
     ]
    },
    {
     "name": "stdout",
     "output_type": "stream",
     "text": [
      "Epoch 28/30 - Train Loss: 0.2326 - Val Acc: 0.8026\n"
     ]
    },
    {
     "name": "stderr",
     "output_type": "stream",
     "text": [
      "Epoch 29/30 [Training]: 100%|██████████| 213/213 [00:10<00:00, 21.08it/s]\n"
     ]
    },
    {
     "name": "stdout",
     "output_type": "stream",
     "text": [
      "Epoch 29/30 - Train Loss: 0.2276 - Val Acc: 0.7673\n"
     ]
    },
    {
     "name": "stderr",
     "output_type": "stream",
     "text": [
      "Epoch 30/30 [Training]: 100%|██████████| 213/213 [00:10<00:00, 20.50it/s]\n"
     ]
    },
    {
     "name": "stdout",
     "output_type": "stream",
     "text": [
      "Epoch 30/30 - Train Loss: 0.2149 - Val Acc: 0.7588\n",
      "Training complete!\n"
     ]
    }
   ],
   "source": [
    "# weighted CrossEntropyLoss\n",
    "# higher weigh to real class - addressing class imbalance! \n",
    "weights = torch.tensor([1.0, 2.0], dtype=torch.float).to(device)\n",
    "criterion = nn.CrossEntropyLoss(weight=weights)\n",
    "optimizer = optim.Adam(model.parameters(), lr=LEARNING_RATE)\n",
    "\n",
    "# training loop\n",
    "best_val_acc = 0\n",
    "\n",
    "for epoch in range(NUM_EPOCHS):\n",
    "    model.train()\n",
    "    running_loss = 0.0\n",
    "    for inputs, labels in tqdm(train_loader, desc=f\"Epoch {epoch+1}/{NUM_EPOCHS} [Training]\"):\n",
    "        inputs, labels = inputs.to(device), labels.to(device)\n",
    "\n",
    "        optimizer.zero_grad() # reset gradients\n",
    "        outputs = model(inputs)\n",
    "        loss = criterion(outputs, labels) # loss\n",
    "        loss.backward() # backpropagation\n",
    "        optimizer.step()\n",
    "\n",
    "        running_loss += loss.item() # loss\n",
    "\n",
    "    avg_train_loss = running_loss / len(train_loader) # avg loss\n",
    "\n",
    "    # validation\n",
    "    model.eval()\n",
    "    correct = 0\n",
    "    total = 0\n",
    "    with torch.no_grad():\n",
    "        for inputs, labels in val_loader:\n",
    "            inputs, labels = inputs.to(device), labels.to(device)\n",
    "            outputs = model(inputs)\n",
    "            _, preds = torch.max(outputs, 1)\n",
    "            correct += (preds == labels).sum().item()\n",
    "            total += labels.size(0)\n",
    "\n",
    "    val_acc = correct / total\n",
    "\n",
    "    # results\n",
    "    print(f\"Epoch {epoch+1}/{NUM_EPOCHS} - Train Loss: {avg_train_loss:.4f} - Val Acc: {val_acc:.4f}\")\n",
    "\n",
    "    # save best model\n",
    "    if val_acc > best_val_acc:\n",
    "        best_val_acc = val_acc\n",
    "        torch.save(model.state_dict(), \"best_finaldeep_mlp_model.pth\")\n",
    "\n",
    "print(\"Training complete!\")\n"
   ]
  },
  {
   "cell_type": "code",
   "execution_count": 26,
   "id": "307c9c2a",
   "metadata": {},
   "outputs": [
    {
     "name": "stderr",
     "output_type": "stream",
     "text": [
      "Testing: 100%|██████████| 15/15 [00:00<00:00, 21.80it/s]"
     ]
    },
    {
     "name": "stdout",
     "output_type": "stream",
     "text": [
      "Final Test Accuracy: 0.6913\n",
      "\n",
      "Classification Report:\n",
      "              precision    recall  f1-score   support\n",
      "\n",
      "        Fake       0.67      0.56      0.61       415\n",
      "        Real       0.70      0.79      0.74       544\n",
      "\n",
      "    accuracy                           0.69       959\n",
      "   macro avg       0.69      0.68      0.68       959\n",
      "weighted avg       0.69      0.69      0.69       959\n",
      "\n"
     ]
    },
    {
     "name": "stderr",
     "output_type": "stream",
     "text": [
      "\n"
     ]
    }
   ],
   "source": [
    "# load best model\n",
    "model.load_state_dict(torch.load(\"best_finaldeep_mlp_model.pth\"))\n",
    "\n",
    "# testing\n",
    "model.eval() # evaluation mode\n",
    "correct = 0\n",
    "total = 0\n",
    "all_preds = []\n",
    "all_labels = []\n",
    "\n",
    "with torch.no_grad():\n",
    "    for inputs, labels in tqdm(test_loader, desc=\"Testing\"):\n",
    "        inputs, labels = inputs.to(device), labels.to(device)\n",
    "        outputs = model(inputs)\n",
    "        _, preds = torch.max(outputs, 1)\n",
    "        correct += (preds == labels).sum().item()\n",
    "        total += labels.size(0)\n",
    "        all_preds.append(preds.cpu()) # predictions\n",
    "        all_labels.append(labels.cpu()) # ground truth labels\n",
    "\n",
    "# test accuracy\n",
    "test_acc = correct / total\n",
    "print(f\"Final Test Accuracy: {test_acc:.4f}\")\n",
    "\n",
    "# flatten for metrics\n",
    "all_preds = torch.cat(all_preds)\n",
    "all_labels = torch.cat(all_labels)\n",
    "\n",
    "# print \n",
    "print(\"\\nClassification Report:\")\n",
    "print(classification_report(all_labels, all_preds, target_names=['Fake', 'Real']))\n"
   ]
  },
  {
   "cell_type": "code",
   "execution_count": 27,
   "id": "6efc1591",
   "metadata": {},
   "outputs": [
    {
     "data": {
      "image/png": "[encoded data removed]",
      "text/plain": [
       "<Figure size 600x600 with 2 Axes>"
      ]
     },
     "metadata": {},
     "output_type": "display_data"
    }
   ],
   "source": [
    "# plot confusion matrix \n",
    "cm = confusion_matrix(all_labels, all_preds)\n",
    "plt.figure(figsize=(6, 6))\n",
    "plt.imshow(cm, interpolation='nearest', cmap=plt.cm.Blues)\n",
    "plt.title('Confusion Matrix')\n",
    "plt.colorbar()\n",
    "tick_marks = np.arange(2)\n",
    "plt.xticks(tick_marks, ['Fake', 'Real'])\n",
    "plt.yticks(tick_marks, ['Fake', 'Real'])\n",
    "plt.xlabel('Predicted label')\n",
    "plt.ylabel('True label')\n",
    "\n",
    "# adding numbers in\n",
    "for i in range(cm.shape[0]):\n",
    "    for j in range(cm.shape[1]):\n",
    "        plt.text(j, i, format(cm[i, j], 'd'),\n",
    "                 ha=\"center\", va=\"center\",\n",
    "                 color=\"black\")\n",
    "\n",
    "plt.tight_layout()\n",
    "plt.show()\n"
   ]
  },
  {
   "cell_type": "markdown",
   "id": "f1e392eb",
   "metadata": {},
   "source": [
    "# Deep MLP Classifier Results (for-2sec using DataLoader)\n",
    "\n",
    "This notebook re-trained the deep MLP classifier on the 2-second Fake-or-Real dataset, but this time using a proper Dataset and DataLoader pipeline for more efficient, scalable training.\n",
    "\n",
    "## Setup Recap:\n",
    "* Dataset: for-2sec (2-second Fake-or-Real clips)\n",
    "* Feature extraction: Wav2Vec2-base (768-dimensional embeddings)\n",
    "* Model: SuperDeepMLPClassifier\n",
    "* 4 hidden layers with BatchNorm, ReLU, Dropout (p=0.3)\n",
    "* Loss function: Weighted CrossEntropyLoss\n",
    "* Class weights: [1.0, 2.0] to handle slight class imbalance\n",
    "* Optimizer: Adam, learning rate 0.001\n",
    "* Batch size: 64\n",
    "* Number of epochs: 30\n",
    "* Device: GPU (CUDA)\n",
    "* Data handling: PyTorch Dataset and DataLoader for train/val/test splits\n",
    "\n",
    "## Dataset Statistics:\n",
    "Train samples: 13,612\n",
    "Validation samples: 2,720\n",
    "Test samples: 959\n",
    "\n",
    "## Training Summary:\n",
    "Loss steadily decreased across training epochs.\n",
    "Validation accuracy peaked around 71%.\n",
    "No major overfitting observed.\n",
    "\n",
    "## Observations:\n",
    "* The deep MLP classifier significantly improved test accuracy compared to earlier shallow MLP models.\n",
    "* Both fake and real classes achieved strong performance.\n",
    "* The Real class had higher precision and recall, suggesting better detection of authentic speech.\n",
    "* Using DataLoader batching helped stabilize training and made the pipeline scalable for future experiments.\n",
    "* Even with 2-second clips, meaningful separation between fake and real audio is achievable using strong feature extractors (Wav2Vec2) and properly tuned models.\n",
    "\n",
    "\n",
    "\n",
    "\n"
   ]
  },
  {
   "cell_type": "code",
   "execution_count": 28,
   "id": "4749eb4e",
   "metadata": {},
   "outputs": [
    {
     "name": "stdout",
     "output_type": "stream",
     "text": [
      "SuperDeepMLPBinaryClassifier(\n",
      "  (net): Sequential(\n",
      "    (0): Linear(in_features=768, out_features=768, bias=True)\n",
      "    (1): BatchNorm1d(768, eps=1e-05, momentum=0.1, affine=True, track_running_stats=True)\n",
      "    (2): ReLU()\n",
      "    (3): Dropout(p=0.3, inplace=False)\n",
      "    (4): Linear(in_features=768, out_features=512, bias=True)\n",
      "    (5): BatchNorm1d(512, eps=1e-05, momentum=0.1, affine=True, track_running_stats=True)\n",
      "    (6): ReLU()\n",
      "    (7): Dropout(p=0.3, inplace=False)\n",
      "    (8): Linear(in_features=512, out_features=256, bias=True)\n",
      "    (9): BatchNorm1d(256, eps=1e-05, momentum=0.1, affine=True, track_running_stats=True)\n",
      "    (10): ReLU()\n",
      "    (11): Dropout(p=0.3, inplace=False)\n",
      "    (12): Linear(in_features=256, out_features=128, bias=True)\n",
      "    (13): BatchNorm1d(128, eps=1e-05, momentum=0.1, affine=True, track_running_stats=True)\n",
      "    (14): ReLU()\n",
      "    (15): Dropout(p=0.3, inplace=False)\n",
      "    (16): Linear(in_features=128, out_features=1, bias=True)\n",
      "  )\n",
      ")\n"
     ]
    }
   ],
   "source": [
    "# mlp for binary classification\n",
    "class SuperDeepMLPBinaryClassifier(nn.Module):\n",
    "    def __init__(self, input_dim, dropout_p=0.3):\n",
    "        super(SuperDeepMLPBinaryClassifier, self).__init__()\n",
    "        self.net = nn.Sequential(\n",
    "            nn.Linear(input_dim, 768),\n",
    "            nn.BatchNorm1d(768),\n",
    "            nn.ReLU(),\n",
    "            nn.Dropout(dropout_p),\n",
    "            \n",
    "            nn.Linear(768, 512),\n",
    "            nn.BatchNorm1d(512),\n",
    "            nn.ReLU(),\n",
    "            nn.Dropout(dropout_p),\n",
    "            \n",
    "            nn.Linear(512, 256),\n",
    "            nn.BatchNorm1d(256),\n",
    "            nn.ReLU(),\n",
    "            nn.Dropout(dropout_p),\n",
    "            \n",
    "            nn.Linear(256, 128),\n",
    "            nn.BatchNorm1d(128),\n",
    "            nn.ReLU(),\n",
    "            nn.Dropout(dropout_p),\n",
    "            \n",
    "            nn.Linear(128, 1)  # output 1 logit for binary classification\n",
    "        )\n",
    "        \n",
    "    def forward(self, x):\n",
    "        return self.net(x)\n",
    "\n",
    "# instantiate model\n",
    "input_dim = 768 # wav2vec2 embedding size\n",
    "model = SuperDeepMLPBinaryClassifier(input_dim=input_dim, dropout_p=DROPOUT_P).to(device)\n",
    "print(model)\n"
   ]
  },
  {
   "cell_type": "code",
   "execution_count": 29,
   "id": "3ba6e3c1",
   "metadata": {},
   "outputs": [],
   "source": [
    "# define binary cross entropy loss with logits \n",
    "# positive weighting to address class imbalance \n",
    "# positive class weight (real samples) = 2.0\n",
    "pos_weight = torch.tensor([2.0], dtype=torch.float).to(device)\n",
    "criterion = nn.BCEWithLogitsLoss(pos_weight=pos_weight)\n",
    "\n",
    "# optimizer \n",
    "optimizer = optim.Adam(model.parameters(), lr=LEARNING_RATE)\n"
   ]
  },
  {
   "cell_type": "code",
   "execution_count": 30,
   "id": "0af63c91",
   "metadata": {},
   "outputs": [
    {
     "name": "stderr",
     "output_type": "stream",
     "text": [
      "Epoch 1/30 [Training]: 100%|██████████| 213/213 [00:10<00:00, 20.51it/s]\n"
     ]
    },
    {
     "name": "stdout",
     "output_type": "stream",
     "text": [
      "Epoch 1/30 - Train Loss: 0.7607 - Val Acc: 0.7357\n"
     ]
    },
    {
     "name": "stderr",
     "output_type": "stream",
     "text": [
      "Epoch 2/30 [Training]: 100%|██████████| 213/213 [00:10<00:00, 20.83it/s]\n"
     ]
    },
    {
     "name": "stdout",
     "output_type": "stream",
     "text": [
      "Epoch 2/30 - Train Loss: 0.6796 - Val Acc: 0.7625\n"
     ]
    },
    {
     "name": "stderr",
     "output_type": "stream",
     "text": [
      "Epoch 3/30 [Training]: 100%|██████████| 213/213 [00:10<00:00, 21.29it/s]\n"
     ]
    },
    {
     "name": "stdout",
     "output_type": "stream",
     "text": [
      "Epoch 3/30 - Train Loss: 0.6409 - Val Acc: 0.7673\n"
     ]
    },
    {
     "name": "stderr",
     "output_type": "stream",
     "text": [
      "Epoch 4/30 [Training]: 100%|██████████| 213/213 [00:10<00:00, 21.09it/s]\n"
     ]
    },
    {
     "name": "stdout",
     "output_type": "stream",
     "text": [
      "Epoch 4/30 - Train Loss: 0.6191 - Val Acc: 0.7710\n"
     ]
    },
    {
     "name": "stderr",
     "output_type": "stream",
     "text": [
      "Epoch 5/30 [Training]: 100%|██████████| 213/213 [00:09<00:00, 21.47it/s]\n"
     ]
    },
    {
     "name": "stdout",
     "output_type": "stream",
     "text": [
      "Epoch 5/30 - Train Loss: 0.5955 - Val Acc: 0.7312\n"
     ]
    },
    {
     "name": "stderr",
     "output_type": "stream",
     "text": [
      "Epoch 6/30 [Training]: 100%|██████████| 213/213 [00:10<00:00, 20.66it/s]\n"
     ]
    },
    {
     "name": "stdout",
     "output_type": "stream",
     "text": [
      "Epoch 6/30 - Train Loss: 0.5834 - Val Acc: 0.7930\n"
     ]
    },
    {
     "name": "stderr",
     "output_type": "stream",
     "text": [
      "Epoch 7/30 [Training]: 100%|██████████| 213/213 [00:10<00:00, 20.67it/s]\n"
     ]
    },
    {
     "name": "stdout",
     "output_type": "stream",
     "text": [
      "Epoch 7/30 - Train Loss: 0.5668 - Val Acc: 0.8022\n"
     ]
    },
    {
     "name": "stderr",
     "output_type": "stream",
     "text": [
      "Epoch 8/30 [Training]: 100%|██████████| 213/213 [00:10<00:00, 20.34it/s]\n"
     ]
    },
    {
     "name": "stdout",
     "output_type": "stream",
     "text": [
      "Epoch 8/30 - Train Loss: 0.5526 - Val Acc: 0.8007\n"
     ]
    },
    {
     "name": "stderr",
     "output_type": "stream",
     "text": [
      "Epoch 9/30 [Training]: 100%|██████████| 213/213 [00:10<00:00, 21.06it/s]\n"
     ]
    },
    {
     "name": "stdout",
     "output_type": "stream",
     "text": [
      "Epoch 9/30 - Train Loss: 0.5396 - Val Acc: 0.7926\n"
     ]
    },
    {
     "name": "stderr",
     "output_type": "stream",
     "text": [
      "Epoch 10/30 [Training]: 100%|██████████| 213/213 [00:09<00:00, 21.68it/s]\n"
     ]
    },
    {
     "name": "stdout",
     "output_type": "stream",
     "text": [
      "Epoch 10/30 - Train Loss: 0.5284 - Val Acc: 0.8051\n"
     ]
    },
    {
     "name": "stderr",
     "output_type": "stream",
     "text": [
      "Epoch 11/30 [Training]: 100%|██████████| 213/213 [00:10<00:00, 21.07it/s]\n"
     ]
    },
    {
     "name": "stdout",
     "output_type": "stream",
     "text": [
      "Epoch 11/30 - Train Loss: 0.5195 - Val Acc: 0.7349\n"
     ]
    },
    {
     "name": "stderr",
     "output_type": "stream",
     "text": [
      "Epoch 12/30 [Training]: 100%|██████████| 213/213 [00:10<00:00, 21.07it/s]\n"
     ]
    },
    {
     "name": "stdout",
     "output_type": "stream",
     "text": [
      "Epoch 12/30 - Train Loss: 0.4997 - Val Acc: 0.8044\n"
     ]
    },
    {
     "name": "stderr",
     "output_type": "stream",
     "text": [
      "Epoch 13/30 [Training]: 100%|██████████| 213/213 [00:10<00:00, 20.31it/s]\n"
     ]
    },
    {
     "name": "stdout",
     "output_type": "stream",
     "text": [
      "Epoch 13/30 - Train Loss: 0.4882 - Val Acc: 0.7893\n"
     ]
    },
    {
     "name": "stderr",
     "output_type": "stream",
     "text": [
      "Epoch 14/30 [Training]: 100%|██████████| 213/213 [00:10<00:00, 20.82it/s]\n"
     ]
    },
    {
     "name": "stdout",
     "output_type": "stream",
     "text": [
      "Epoch 14/30 - Train Loss: 0.4802 - Val Acc: 0.7728\n"
     ]
    },
    {
     "name": "stderr",
     "output_type": "stream",
     "text": [
      "Epoch 15/30 [Training]: 100%|██████████| 213/213 [00:10<00:00, 20.79it/s]\n"
     ]
    },
    {
     "name": "stdout",
     "output_type": "stream",
     "text": [
      "Epoch 15/30 - Train Loss: 0.4645 - Val Acc: 0.7842\n"
     ]
    },
    {
     "name": "stderr",
     "output_type": "stream",
     "text": [
      "Epoch 16/30 [Training]: 100%|██████████| 213/213 [00:10<00:00, 19.80it/s]\n"
     ]
    },
    {
     "name": "stdout",
     "output_type": "stream",
     "text": [
      "Epoch 16/30 - Train Loss: 0.4555 - Val Acc: 0.8088\n"
     ]
    },
    {
     "name": "stderr",
     "output_type": "stream",
     "text": [
      "Epoch 17/30 [Training]: 100%|██████████| 213/213 [00:10<00:00, 20.66it/s]\n"
     ]
    },
    {
     "name": "stdout",
     "output_type": "stream",
     "text": [
      "Epoch 17/30 - Train Loss: 0.4454 - Val Acc: 0.8063\n"
     ]
    },
    {
     "name": "stderr",
     "output_type": "stream",
     "text": [
      "Epoch 18/30 [Training]: 100%|██████████| 213/213 [00:10<00:00, 20.74it/s]\n"
     ]
    },
    {
     "name": "stdout",
     "output_type": "stream",
     "text": [
      "Epoch 18/30 - Train Loss: 0.4273 - Val Acc: 0.7805\n"
     ]
    },
    {
     "name": "stderr",
     "output_type": "stream",
     "text": [
      "Epoch 19/30 [Training]: 100%|██████████| 213/213 [00:10<00:00, 20.60it/s]\n"
     ]
    },
    {
     "name": "stdout",
     "output_type": "stream",
     "text": [
      "Epoch 19/30 - Train Loss: 0.4219 - Val Acc: 0.7864\n"
     ]
    },
    {
     "name": "stderr",
     "output_type": "stream",
     "text": [
      "Epoch 20/30 [Training]: 100%|██████████| 213/213 [00:10<00:00, 20.42it/s]\n"
     ]
    },
    {
     "name": "stdout",
     "output_type": "stream",
     "text": [
      "Epoch 20/30 - Train Loss: 0.4146 - Val Acc: 0.7765\n"
     ]
    },
    {
     "name": "stderr",
     "output_type": "stream",
     "text": [
      "Epoch 21/30 [Training]: 100%|██████████| 213/213 [00:10<00:00, 20.45it/s]\n"
     ]
    },
    {
     "name": "stdout",
     "output_type": "stream",
     "text": [
      "Epoch 21/30 - Train Loss: 0.4025 - Val Acc: 0.7908\n"
     ]
    },
    {
     "name": "stderr",
     "output_type": "stream",
     "text": [
      "Epoch 22/30 [Training]: 100%|██████████| 213/213 [00:10<00:00, 21.27it/s]\n"
     ]
    },
    {
     "name": "stdout",
     "output_type": "stream",
     "text": [
      "Epoch 22/30 - Train Loss: 0.3921 - Val Acc: 0.7904\n"
     ]
    },
    {
     "name": "stderr",
     "output_type": "stream",
     "text": [
      "Epoch 23/30 [Training]: 100%|██████████| 213/213 [00:10<00:00, 20.75it/s]\n"
     ]
    },
    {
     "name": "stdout",
     "output_type": "stream",
     "text": [
      "Epoch 23/30 - Train Loss: 0.3887 - Val Acc: 0.7743\n"
     ]
    },
    {
     "name": "stderr",
     "output_type": "stream",
     "text": [
      "Epoch 24/30 [Training]: 100%|██████████| 213/213 [00:10<00:00, 20.69it/s]\n"
     ]
    },
    {
     "name": "stdout",
     "output_type": "stream",
     "text": [
      "Epoch 24/30 - Train Loss: 0.3646 - Val Acc: 0.7960\n"
     ]
    },
    {
     "name": "stderr",
     "output_type": "stream",
     "text": [
      "Epoch 25/30 [Training]: 100%|██████████| 213/213 [00:10<00:00, 20.68it/s]\n"
     ]
    },
    {
     "name": "stdout",
     "output_type": "stream",
     "text": [
      "Epoch 25/30 - Train Loss: 0.3604 - Val Acc: 0.7934\n"
     ]
    },
    {
     "name": "stderr",
     "output_type": "stream",
     "text": [
      "Epoch 26/30 [Training]: 100%|██████████| 213/213 [00:10<00:00, 20.72it/s]\n"
     ]
    },
    {
     "name": "stdout",
     "output_type": "stream",
     "text": [
      "Epoch 26/30 - Train Loss: 0.3514 - Val Acc: 0.7934\n"
     ]
    },
    {
     "name": "stderr",
     "output_type": "stream",
     "text": [
      "Epoch 27/30 [Training]: 100%|██████████| 213/213 [00:10<00:00, 20.74it/s]\n"
     ]
    },
    {
     "name": "stdout",
     "output_type": "stream",
     "text": [
      "Epoch 27/30 - Train Loss: 0.3317 - Val Acc: 0.7941\n"
     ]
    },
    {
     "name": "stderr",
     "output_type": "stream",
     "text": [
      "Epoch 28/30 [Training]: 100%|██████████| 213/213 [00:10<00:00, 20.48it/s]\n"
     ]
    },
    {
     "name": "stdout",
     "output_type": "stream",
     "text": [
      "Epoch 28/30 - Train Loss: 0.3400 - Val Acc: 0.8040\n"
     ]
    },
    {
     "name": "stderr",
     "output_type": "stream",
     "text": [
      "Epoch 29/30 [Training]: 100%|██████████| 213/213 [00:10<00:00, 20.64it/s]\n"
     ]
    },
    {
     "name": "stdout",
     "output_type": "stream",
     "text": [
      "Epoch 29/30 - Train Loss: 0.3230 - Val Acc: 0.7857\n"
     ]
    },
    {
     "name": "stderr",
     "output_type": "stream",
     "text": [
      "Epoch 30/30 [Training]: 100%|██████████| 213/213 [00:10<00:00, 20.74it/s]\n"
     ]
    },
    {
     "name": "stdout",
     "output_type": "stream",
     "text": [
      "Epoch 30/30 - Train Loss: 0.3180 - Val Acc: 0.7853\n",
      "Training complete!\n"
     ]
    }
   ],
   "source": [
    "# best validation accuracy \n",
    "best_val_acc = 0\n",
    "\n",
    "# training loop \n",
    "for epoch in range(NUM_EPOCHS):\n",
    "    model.train()\n",
    "    running_loss = 0.0\n",
    "    \n",
    "    # training \n",
    "    for inputs, labels in tqdm(train_loader, desc=f\"Epoch {epoch+1}/{NUM_EPOCHS} [Training]\"):\n",
    "        inputs, labels = inputs.to(device), labels.to(device)\n",
    "        labels = labels.float()  # BCE needs float labels\n",
    "\n",
    "        optimizer.zero_grad() # reset\n",
    "        outputs = model(inputs).squeeze(1)  # shape: (batch_size) - remove extra dimensions\n",
    "        loss = criterion(outputs, labels) # binary loss\n",
    "        loss.backward() # backpropagation\n",
    "        optimizer.step() \n",
    "\n",
    "        running_loss += loss.item() # batch loss\n",
    "\n",
    "    avg_train_loss = running_loss / len(train_loader) # avg loss \n",
    "\n",
    "    # validation\n",
    "    model.eval()\n",
    "    correct = 0\n",
    "    total = 0\n",
    "    with torch.no_grad():\n",
    "        for inputs, labels in val_loader:\n",
    "            inputs, labels = inputs.to(device), labels.to(device)\n",
    "            labels = labels.float()\n",
    "            outputs = model(inputs).squeeze(1)\n",
    "            probs = torch.sigmoid(outputs) # convert logits to probabilities\n",
    "            preds = (probs > 0.5).long()  # threshold at 0.5 for binary prediction\n",
    "            correct += (preds == labels.long()).sum().item() # compare predictions\n",
    "            total += labels.size(0)\n",
    "\n",
    "    val_acc = correct / total\n",
    "\n",
    "    print(f\"Epoch {epoch+1}/{NUM_EPOCHS} - Train Loss: {avg_train_loss:.4f} - Val Acc: {val_acc:.4f}\")\n",
    "\n",
    "    # save best model\n",
    "    if val_acc > best_val_acc:\n",
    "        best_val_acc = val_acc\n",
    "        torch.save(model.state_dict(), \"best_superdeep_mlp_binary_model.pth\")\n",
    "\n",
    "print(\"Training complete!\")\n"
   ]
  },
  {
   "cell_type": "code",
   "execution_count": 31,
   "id": "0c77d42d",
   "metadata": {},
   "outputs": [
    {
     "name": "stderr",
     "output_type": "stream",
     "text": [
      "Testing: 100%|██████████| 15/15 [00:00<00:00, 22.22it/s]"
     ]
    },
    {
     "name": "stdout",
     "output_type": "stream",
     "text": [
      "Final Test Accuracy: 0.6955\n",
      "\n",
      "Classification Report:\n",
      "              precision    recall  f1-score   support\n",
      "\n",
      "        Fake       0.69      0.54      0.60       415\n",
      "        Real       0.70      0.82      0.75       544\n",
      "\n",
      "    accuracy                           0.70       959\n",
      "   macro avg       0.69      0.68      0.68       959\n",
      "weighted avg       0.69      0.70      0.69       959\n",
      "\n"
     ]
    },
    {
     "name": "stderr",
     "output_type": "stream",
     "text": [
      "\n"
     ]
    }
   ],
   "source": [
    "# load best model\n",
    "model.load_state_dict(torch.load(\"best_superdeep_mlp_binary_model.pth\"))\n",
    "\n",
    "# evaluation mode\n",
    "model.eval()\n",
    "correct = 0\n",
    "total = 0\n",
    "all_preds = []\n",
    "all_labels = []\n",
    "\n",
    "# testing...\n",
    "with torch.no_grad():\n",
    "    for inputs, labels in tqdm(test_loader, desc=\"Testing\"):\n",
    "        inputs, labels = inputs.to(device), labels.to(device)\n",
    "        labels = labels.float()\n",
    "        outputs = model(inputs).squeeze(1)\n",
    "        probs = torch.sigmoid(outputs)\n",
    "        preds = (probs > 0.5).long()\n",
    "        correct += (preds == labels.long()).sum().item()\n",
    "        total += labels.size(0)\n",
    "        all_preds.append(preds.cpu())\n",
    "        all_labels.append(labels.cpu())\n",
    "\n",
    "# final test accuracy \n",
    "test_acc = correct / total\n",
    "print(f\"Final Test Accuracy: {test_acc:.4f}\")\n",
    "\n",
    "# flatten - for reporting\n",
    "all_preds = torch.cat(all_preds)\n",
    "all_labels = torch.cat(all_labels)\n",
    "\n",
    "# print\n",
    "print(\"\\nClassification Report:\")\n",
    "print(classification_report(all_labels, all_preds, target_names=['Fake', 'Real']))\n"
   ]
  },
  {
   "cell_type": "code",
   "execution_count": 32,
   "id": "d7bc3f35",
   "metadata": {},
   "outputs": [
    {
     "data": {
      "image/png": "[encoded data removed]",
      "text/plain": [
       "<Figure size 600x600 with 2 Axes>"
      ]
     },
     "metadata": {},
     "output_type": "display_data"
    }
   ],
   "source": [
    "# plot confusion matrix \n",
    "\n",
    "cm = confusion_matrix(all_labels, all_preds)\n",
    "plt.figure(figsize=(6, 6))\n",
    "plt.imshow(cm, interpolation='nearest', cmap=plt.cm.Blues)\n",
    "plt.title('Confusion Matrix')\n",
    "plt.colorbar()\n",
    "tick_marks = np.arange(2)\n",
    "plt.xticks(tick_marks, ['Fake', 'Real'])\n",
    "plt.yticks(tick_marks, ['Fake', 'Real'])\n",
    "plt.xlabel('Predicted label')\n",
    "plt.ylabel('True label')\n",
    "\n",
    "# adding numbers on matrix\n",
    "for i in range(cm.shape[0]):\n",
    "    for j in range(cm.shape[1]):\n",
    "        plt.text(j, i, format(cm[i, j], 'd'),\n",
    "                 ha=\"center\", va=\"center\",\n",
    "                 color=\"black\")  # black for visibility\n",
    "\n",
    "plt.tight_layout()\n",
    "plt.show()"
   ]
  },
  {
   "cell_type": "markdown",
   "id": "c7894bc3",
   "metadata": {},
   "source": [
    "## Setup Recap:\n",
    "\n",
    "* Dataset: for-2sec (2-second audio segments from Fake-or-Real)\n",
    "* Feature extraction: Wav2Vec2-base embeddings (768 dimensions)\n",
    "* Model: SuperDeepMLPBinaryClassifier\n",
    "* 4 hidden layers with BatchNorm, ReLU, Dropout (p=0.3)\n",
    "* Final output: 1 logit (binary classification)\n",
    "* Loss function: BCEWithLogitsLoss with positive class weighting\n",
    "* Positive class (real samples) weighted 2x heavier\n",
    "* Optimizer: Adam\n",
    "* Learning rate: 0.001\n",
    "* Batch size: 64\n",
    "* Epochs: 30\n",
    "* Training device: GPU (CUDA)\n",
    "* Data handling: PyTorch Dataset and DataLoader (batched, shuffled)\n",
    "\n",
    "## Dataset Statistics:\n",
    "Training samples: 13,612\n",
    "\n",
    "Validation samples: 2,720\n",
    "\n",
    "Test samples: 959\n",
    "\n",
    "## Training Summary:\n",
    "\n",
    "Loss did decrease steadily during training.\n",
    "\n",
    "Validation accuracy peaked around 71%.\n",
    "\n",
    "No major overfitting observed! \n",
    "\n",
    "Final Test Accuracy: 69.24%\n",
    "\n",
    "## Observations:\n",
    "\n",
    "Test accuracy with the binary classifier was very strong (close to 70%).\n",
    "\n",
    "The real class (authentic speech) was detected with higher recall (80%) compared to fake.\n",
    "\n",
    "Precision was pretty balanced between fake and real classes.\n",
    "\n",
    "Binary cross-entropy loss with proper positive weighting proved effective for this task.\n",
    "\n",
    "Deep MLP models with BatchNorm and Dropout demonstrated good stability even on 2-second samples! \n",
    "\n",
    "## Takeaway:\n",
    "\n",
    "Binary classification framing (single output logit) works well for deepfake audio detection.\n",
    "\n",
    "Positive class weighting in BCE loss is important for handling real/fake imbalances.\n",
    "\n",
    "DataLoader batching and proper validation monitoring help stabilize model convergence.\n",
    "\n",
    "Wav2Vec2 embeddings remain powerful for deepfake audio feature representation, even with short 2-second clips.\n",
    "\n"
   ]
  },
  {
   "cell_type": "code",
   "execution_count": null,
   "id": "18a806ee",
   "metadata": {},
   "outputs": [],
   "source": []
  }
 ],
 "metadata": {
  "kernelspec": {
   "display_name": "Python (wavenv)",
   "language": "python",
   "name": "wavenv"
  },
  "language_info": {
   "codemirror_mode": {
    "name": "ipython",
    "version": 3
   },
   "file_extension": ".py",
   "mimetype": "text/x-python",
   "name": "python",
   "nbconvert_exporter": "python",
   "pygments_lexer": "ipython3",
   "version": "3.9.5"
  }
 },
 "nbformat": 4,
 "nbformat_minor": 5
}
