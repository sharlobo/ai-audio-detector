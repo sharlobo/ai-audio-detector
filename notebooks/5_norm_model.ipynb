{
 "cells": [
  {
   "cell_type": "markdown",
   "id": "69e26f7b",
   "metadata": {},
   "source": [
    "# Deepfake Audio Classification - Training & Evaluation (for-norm Dataset) \n",
    "\n",
    "In this notebook, I move to the training and evaluation phase after extracting embeddings.\n",
    "\n",
    "I will:\n",
    "\n",
    "* Load the pre-computed Wav2Vec2 embeddings (.pt files) for the \"for-norm\" dataset.\n",
    "\n",
    "* Create a custom Dataset and DataLoader for efficient batching.\n",
    "\n",
    "* Define a deep MLP model to classify real vs fake speech.\n",
    "\n",
    "* Train the model over several epochs.\n",
    "\n",
    "* Evaluate performance on the test set.\n",
    "\n",
    "* Visualize results with confusion matrix, ROC curve, precision-recall curve, and error analysis.\n",
    "\n",
    "Used balanced class weighting to handle real/fake imbalance.\n",
    "\n",
    "Model outputs either 2-class logits (CrossEntropy) or binary logits (BCEWithLogits).\n",
    "\n",
    "Heavy use of tqdm for progress bars during training/testing.\n",
    "\n",
    "Best model is saved based on validation accuracy."
   ]
  },
  {
   "cell_type": "code",
   "execution_count": 39,
   "id": "9294a815",
   "metadata": {},
   "outputs": [
    {
     "name": "stdout",
     "output_type": "stream",
     "text": [
      "Requirement already satisfied: torch in /opt/jupyterhub/pyvenv/lib/python3.9/site-packages (1.13.1+rocm5.2)\n",
      "Requirement already satisfied: torchvision in /opt/jupyterhub/pyvenv/lib/python3.9/site-packages (0.14.1+rocm5.2)\n",
      "Collecting torchaudio\n",
      "  Downloading torchaudio-2.7.0-cp39-cp39-manylinux_2_28_x86_64.whl.metadata (6.6 kB)\n",
      "Requirement already satisfied: scikit-learn in /opt/jupyterhub/pyvenv/lib/python3.9/site-packages (1.3.2)\n",
      "Requirement already satisfied: matplotlib in /opt/jupyterhub/pyvenv/lib/python3.9/site-packages (3.8.2)\n",
      "Requirement already satisfied: tqdm in /opt/jupyterhub/pyvenv/lib/python3.9/site-packages (4.66.4)\n",
      "Requirement already satisfied: typing-extensions in /opt/jupyterhub/pyvenv/lib/python3.9/site-packages (from torch) (4.9.0)\n",
      "Requirement already satisfied: numpy in /opt/jupyterhub/pyvenv/lib/python3.9/site-packages (from torchvision) (1.23.5)\n",
      "Requirement already satisfied: requests in /opt/jupyterhub/pyvenv/lib/python3.9/site-packages (from torchvision) (2.32.3)\n",
      "Requirement already satisfied: pillow!=8.3.*,>=5.3.0 in /opt/jupyterhub/pyvenv/lib/python3.9/site-packages (from torchvision) (10.2.0)\n",
      "INFO: pip is looking at multiple versions of torchaudio to determine which version is compatible with other requirements. This could take a while.\n",
      "  Using cached torchaudio-2.6.0-cp39-cp39-manylinux1_x86_64.whl.metadata (6.6 kB)\n",
      "  Using cached torchaudio-2.5.1-cp39-cp39-manylinux1_x86_64.whl.metadata (6.4 kB)\n",
      "  Using cached torchaudio-2.5.0-cp39-cp39-manylinux1_x86_64.whl.metadata (6.4 kB)\n",
      "  Using cached torchaudio-2.4.1-cp39-cp39-manylinux1_x86_64.whl.metadata (6.4 kB)\n",
      "  Using cached torchaudio-2.4.0-cp39-cp39-manylinux1_x86_64.whl.metadata (6.4 kB)\n",
      "  Using cached torchaudio-2.3.1-cp39-cp39-manylinux1_x86_64.whl.metadata (6.4 kB)\n",
      "  Using cached torchaudio-2.3.0-cp39-cp39-manylinux1_x86_64.whl.metadata (6.4 kB)\n",
      "INFO: pip is still looking at multiple versions of torchaudio to determine which version is compatible with other requirements. This could take a while.\n",
      "  Using cached torchaudio-2.2.2-cp39-cp39-manylinux1_x86_64.whl.metadata (6.4 kB)\n",
      "  Using cached torchaudio-2.2.1-cp39-cp39-manylinux1_x86_64.whl.metadata (6.4 kB)\n",
      "  Using cached torchaudio-2.2.0-cp39-cp39-manylinux1_x86_64.whl.metadata (6.4 kB)\n",
      "  Using cached torchaudio-2.1.2-cp39-cp39-manylinux1_x86_64.whl.metadata (6.4 kB)\n",
      "  Using cached torchaudio-2.1.1-cp39-cp39-manylinux1_x86_64.whl.metadata (6.4 kB)\n",
      "INFO: This is taking longer than usual. You might need to provide the dependency resolver with stricter constraints to reduce runtime. See https://pip.pypa.io/warnings/backtracking for guidance. If you want to abort this run, press Ctrl + C.\n",
      "  Using cached torchaudio-2.1.0-cp39-cp39-manylinux1_x86_64.whl.metadata (5.7 kB)\n",
      "  Using cached torchaudio-2.0.2-cp39-cp39-manylinux1_x86_64.whl.metadata (1.2 kB)\n",
      "  Using cached torchaudio-2.0.1-cp39-cp39-manylinux1_x86_64.whl.metadata (1.2 kB)\n",
      "  Using cached torchaudio-0.13.1-cp39-cp39-manylinux1_x86_64.whl.metadata (1.2 kB)\n",
      "Requirement already satisfied: scipy>=1.5.0 in /opt/jupyterhub/pyvenv/lib/python3.9/site-packages (from scikit-learn) (1.10.1)\n",
      "Requirement already satisfied: joblib>=1.1.1 in /opt/jupyterhub/pyvenv/lib/python3.9/site-packages (from scikit-learn) (1.3.2)\n",
      "Requirement already satisfied: threadpoolctl>=2.0.0 in /opt/jupyterhub/pyvenv/lib/python3.9/site-packages (from scikit-learn) (3.2.0)\n",
      "Requirement already satisfied: contourpy>=1.0.1 in /opt/jupyterhub/pyvenv/lib/python3.9/site-packages (from matplotlib) (1.2.0)\n",
      "Requirement already satisfied: cycler>=0.10 in /opt/jupyterhub/pyvenv/lib/python3.9/site-packages (from matplotlib) (0.12.1)\n",
      "Requirement already satisfied: fonttools>=4.22.0 in /opt/jupyterhub/pyvenv/lib/python3.9/site-packages (from matplotlib) (4.47.0)\n",
      "Requirement already satisfied: kiwisolver>=1.3.1 in /opt/jupyterhub/pyvenv/lib/python3.9/site-packages (from matplotlib) (1.4.5)\n",
      "Requirement already satisfied: packaging>=20.0 in /opt/jupyterhub/pyvenv/lib/python3.9/site-packages (from matplotlib) (23.2)\n",
      "Requirement already satisfied: pyparsing>=2.3.1 in /opt/jupyterhub/pyvenv/lib/python3.9/site-packages (from matplotlib) (3.1.1)\n",
      "Requirement already satisfied: python-dateutil>=2.7 in /opt/jupyterhub/pyvenv/lib/python3.9/site-packages (from matplotlib) (2.8.2)\n",
      "Requirement already satisfied: importlib-resources>=3.2.0 in /opt/jupyterhub/pyvenv/lib/python3.9/site-packages (from matplotlib) (6.1.1)\n",
      "Requirement already satisfied: zipp>=3.1.0 in /opt/jupyterhub/pyvenv/lib/python3.9/site-packages (from importlib-resources>=3.2.0->matplotlib) (3.17.0)\n",
      "Requirement already satisfied: six>=1.5 in /opt/jupyterhub/pyvenv/lib/python3.9/site-packages (from python-dateutil>=2.7->matplotlib) (1.16.0)\n",
      "Requirement already satisfied: charset-normalizer<4,>=2 in /opt/jupyterhub/pyvenv/lib/python3.9/site-packages (from requests->torchvision) (3.3.2)\n",
      "Requirement already satisfied: idna<4,>=2.5 in /opt/jupyterhub/pyvenv/lib/python3.9/site-packages (from requests->torchvision) (3.6)\n",
      "Requirement already satisfied: urllib3<3,>=1.21.1 in /opt/jupyterhub/pyvenv/lib/python3.9/site-packages (from requests->torchvision) (1.26.18)\n",
      "Requirement already satisfied: certifi>=2017.4.17 in /opt/jupyterhub/pyvenv/lib/python3.9/site-packages (from requests->torchvision) (2023.11.17)\n",
      "Using cached torchaudio-0.13.1-cp39-cp39-manylinux1_x86_64.whl (4.2 MB)\n",
      "Installing collected packages: torchaudio\n",
      "\u001b[31mERROR: Could not install packages due to an OSError: [Errno 13] Permission denied: '/opt/jupyterhub/pyvenv/lib/python3.9/site-packages/torchaudio-0.13.1.dist-info'\n",
      "Check the permissions.\n",
      "\u001b[0m\u001b[31m\n",
      "\u001b[0m\n",
      "\u001b[1m[\u001b[0m\u001b[34;49mnotice\u001b[0m\u001b[1;39;49m]\u001b[0m\u001b[39;49m A new release of pip is available: \u001b[0m\u001b[31;49m23.3.2\u001b[0m\u001b[39;49m -> \u001b[0m\u001b[32;49m25.1\u001b[0m\n",
      "\u001b[1m[\u001b[0m\u001b[34;49mnotice\u001b[0m\u001b[1;39;49m]\u001b[0m\u001b[39;49m To update, run: \u001b[0m\u001b[32;49mpip install --upgrade pip\u001b[0m\n"
     ]
    }
   ],
   "source": [
    "# if needed to install missing packages uncomment and run:\n",
    "!pip install torch torchvision torchaudio scikit-learn matplotlib tqdm\n"
   ]
  },
  {
   "cell_type": "code",
   "execution_count": 40,
   "id": "98724f49",
   "metadata": {},
   "outputs": [],
   "source": [
    "# importing.. \n",
    "import os\n",
    "import torch\n",
    "import torch.nn as nn\n",
    "import torch.optim as optim\n",
    "from torch.utils.data import Dataset, DataLoader\n",
    "import numpy as np\n",
    "import matplotlib.pyplot as plt\n",
    "from sklearn.metrics import classification_report, confusion_matrix\n",
    "from tqdm import tqdm\n",
    "import random \n",
    "from collections import defaultdict\n"
   ]
  },
  {
   "cell_type": "markdown",
   "id": "efb0d37c",
   "metadata": {},
   "source": [
    "## Dealing with bad class imbalance \n",
    "\n",
    "Manually reshuffling the data because the original \"test\" set had bad class imbalance (real=0 in testing?).\n",
    "\n",
    "Move 500 real and 500 fake examples into a new balanced test set."
   ]
  },
  {
   "cell_type": "code",
   "execution_count": 41,
   "id": "19c91427",
   "metadata": {},
   "outputs": [],
   "source": [
    "# path to norm features - extracted wav2vec2 embeddings \n",
    "EMBEDDINGS_DIR = \"deepfake_audio_project/data/processed_embeddings_norm\"\n",
    "\n",
    "# number of fake/real samples to move to testing\n",
    "NUM_TO_MOVE = 500 # 500 real + 500 fake samples - ideally \n"
   ]
  },
  {
   "cell_type": "markdown",
   "id": "95272e6f",
   "metadata": {},
   "source": [
    "Collecting paths of all training and validation samples separately for fake and real.\n",
    "\n",
    "Goal: Later, we'll move a balanced number into the testing set manually (because original test split was bad).\n",
    "\n",
    "This is preparing us to reshuffle the splits properly.\n"
   ]
  },
  {
   "cell_type": "code",
   "execution_count": 42,
   "id": "3bf5662c",
   "metadata": {
    "scrolled": true
   },
   "outputs": [
    {
     "name": "stdout",
     "output_type": "stream",
     "text": [
      "Found 31191 fake and 28809 real samples in train/val combined.\n"
     ]
    }
   ],
   "source": [
    "# group all training + validation samples\n",
    "# lists tp hold paths to fake and real samples \n",
    "fake_samples = []\n",
    "real_samples = []\n",
    "\n",
    "# loop through all extracted embeddings \n",
    "for file in os.listdir(EMBEDDINGS_DIR):\n",
    "    if file.endswith(\".pt\"):\n",
    "        path = os.path.join(EMBEDDINGS_DIR, file)\n",
    "        data = torch.load(path) # embedding dictionary \n",
    "        \n",
    "        # get split info (train-val-test) and label info (real/info)\n",
    "        split = data.get('split', None)\n",
    "        label = data.get('label', None)\n",
    "\n",
    "        # only consider samples from training or validation sets \n",
    "        if split in ['training', 'validation']:\n",
    "            if label == 'fake':\n",
    "                fake_samples.append(path)\n",
    "            elif label == 'real':\n",
    "                real_samples.append(path)\n",
    "\n",
    "# print number of samples we found \n",
    "print(f\"Found {len(fake_samples)} fake and {len(real_samples)} real samples in train/val combined.\")\n"
   ]
  },
  {
   "cell_type": "markdown",
   "id": "5e0c15ba",
   "metadata": {},
   "source": [
    "Shuffling ensures random selection instead of accidentally picking files from the same speaker or similar recordings.\n",
    "\n",
    "We select exactly 500 fake and 500 real samples (based on NUM_TO_MOVE).\n",
    "\n",
    "These samples will be reassigned from training/validation to the new balanced testing split.\n",
    "\n"
   ]
  },
  {
   "cell_type": "code",
   "execution_count": 43,
   "id": "b6e091a6",
   "metadata": {},
   "outputs": [
    {
     "name": "stdout",
     "output_type": "stream",
     "text": [
      "Selected 500 fake and 500 real samples for new testing set.\n"
     ]
    }
   ],
   "source": [
    "# randomly select samples for new testing split\n",
    "\n",
    "# shuffle lists randomly (important so selection isn't biased)\n",
    "random.shuffle(fake_samples)\n",
    "random.shuffle(real_samples)\n",
    "\n",
    "# pick the first N samples for testing \n",
    "selected_fake = fake_samples[:NUM_TO_MOVE]\n",
    "selected_real = real_samples[:NUM_TO_MOVE]\n",
    "\n",
    "# print how many samples were selected \n",
    "print(f\"Selected {len(selected_fake)} fake and {len(selected_real)} real samples for new testing set.\")\n"
   ]
  },
  {
   "cell_type": "markdown",
   "id": "d079d4f3",
   "metadata": {},
   "source": [
    "Load each selected file.\n",
    "\n",
    "We modify the 'split' key inside the dictionary to 'testing'.\n",
    "\n",
    "We save it back, overwriting the old split info (now it’s properly marked as a testing sample).\n",
    "\n",
    "No need to physically move files, updating the metadata inside .pt files is enough!"
   ]
  },
  {
   "cell_type": "code",
   "execution_count": 44,
   "id": "eaed159a",
   "metadata": {},
   "outputs": [
    {
     "name": "stdout",
     "output_type": "stream",
     "text": [
      "Successfully updated 1000 files to 'testing' split!\n"
     ]
    }
   ],
   "source": [
    "# update the split field \n",
    "# for each selected file (both fake and real): \n",
    "for path in selected_fake + selected_real:\n",
    "    data = torch.load(path) # load the .pt file (dict with embedding, label, split)\n",
    "    data['split'] = 'testing'  # update the split field to testing \n",
    "    torch.save(data, path) # save modified file \n",
    "\n",
    "# print confirmation\n",
    "print(f\"Successfully updated {len(selected_fake) + len(selected_real)} files to 'testing' split!\")\n"
   ]
  },
  {
   "cell_type": "markdown",
   "id": "472572e8",
   "metadata": {},
   "source": [
    "After we updated the splits, we double-check how many real/fake examples are now inside each training, validation, and testing set.\n",
    "\n",
    "Load every file again and count based on the split and label fields.\n",
    "\n",
    "This lets us confirm that the new testing set really contains balanced fake and real samples, and that nothing broke.\n",
    "\n"
   ]
  },
  {
   "cell_type": "code",
   "execution_count": 45,
   "id": "89b2b6e2",
   "metadata": {},
   "outputs": [
    {
     "name": "stdout",
     "output_type": "stream",
     "text": [
      "\n",
      "Updated Split Counts:\n",
      "\n",
      "VALIDATION:\n",
      "  fake: 5131\n",
      "  real: 5204\n",
      "\n",
      "TRAINING:\n",
      "  fake: 25560\n",
      "  real: 23105\n",
      "\n",
      "TESTING:\n",
      "  fake: 1139\n",
      "  real: 1000\n"
     ]
    }
   ],
   "source": [
    "# verify updated split counts\n",
    "\n",
    "# create dictionary to track counts of real/fake in each split \n",
    "new_split_counts = defaultdict(lambda: {'fake': 0, 'real': 0})\n",
    "\n",
    "# loop through all .pt files \n",
    "for file in os.listdir(EMBEDDINGS_DIR):\n",
    "    if file.endswith(\".pt\"):\n",
    "        data = torch.load(os.path.join(EMBEDDINGS_DIR, file))\n",
    "        split = data.get('split', None) # train / val / test\n",
    "        label = data.get('label', None) # real / fake \n",
    "\n",
    "        # if split and label are not found, increment corresponding counter \n",
    "        if split is not None and label is not None:\n",
    "            new_split_counts[split][label] += 1\n",
    "\n",
    "# print updated statistics \n",
    "print(\"\\nUpdated Split Counts:\")\n",
    "for split, counts in new_split_counts.items():\n",
    "    print(f\"\\n{split.upper()}:\")\n",
    "    for label, count in counts.items():\n",
    "        print(f\"  {label}: {count}\")\n"
   ]
  },
  {
   "cell_type": "markdown",
   "id": "7ded4254",
   "metadata": {},
   "source": [
    "Training Set:\n",
    "\n",
    "Still has a slight imbalance (more fake than real), but that’s okay because we use weighted loss during training to correct it.\n",
    "\n",
    "Validation Set:\n",
    "\n",
    "Very balanced (almost perfect real/fake split).\n",
    "\n",
    "This is important because we select the best model based on validation accuracy.\n",
    "\n",
    "Testing Set:\n",
    "\n",
    "Balanced enough now — roughly 50% real and 50% fake samples.\n",
    "\n",
    "This was critical because the original testing set had only fake examples, which would have made evaluation totally meaningless.\n",
    "\n",
    "## Why this was necessary: \n",
    "\n",
    "Originally, the dataset did not properly balance splits.\n",
    "\n",
    "Real samples were missing completely from testing.\n",
    "\n",
    "Without this manual fixing, test metrics like accuracy, F1, precision, recall would be misleading.\n",
    "\n",
    "Now we can trust our final test results because both real and fake classes are properly represented.\n"
   ]
  },
  {
   "cell_type": "markdown",
   "id": "9457bc89",
   "metadata": {},
   "source": [
    "## Custom dataset \n",
    "\n",
    "This class wraps around the extracted Wav2Vec2 embeddings so PyTorch can use them in DataLoaders.\n",
    "\n",
    "Training, Validation, and Testing splits are separated automatically by checking the 'split' field inside each .pt file.\n",
    "\n",
    "Whenever the model asks for a batch, this class loads the embeddings on-the-fly and returns both the input (features) and output (labels)."
   ]
  },
  {
   "cell_type": "code",
   "execution_count": 46,
   "id": "23b81b4b",
   "metadata": {},
   "outputs": [],
   "source": [
    "# custom dataset class for deepfake audio \n",
    "\n",
    "class DeepfakeAudioDataset(Dataset):\n",
    "    def __init__(self, embeddings_folder, split, label_to_idx):\n",
    "        self.paths = [] # list of file paths\n",
    "        self.labels = [] # corresponding labels \n",
    "        self.label_to_idx = label_to_idx\n",
    "        self.split = split\n",
    "        \n",
    "        # walk through the folder and filter files based on requested split \n",
    "        for file in os.listdir(embeddings_folder):\n",
    "            if file.endswith(\".pt\"):\n",
    "                data = torch.load(os.path.join(embeddings_folder, file))\n",
    "                if data.get(\"split\", None) == split:\n",
    "                    self.paths.append(os.path.join(embeddings_folder, file))\n",
    "                    self.labels.append(label_to_idx[data[\"label\"]])\n",
    "                    \n",
    "        # debugging - crash early if needed    \n",
    "        assert len(self.paths) > 0, f\"No files found for split: {split}\"\n",
    "        \n",
    "    def __len__(self):\n",
    "        return len(self.paths) # return total number of samples \n",
    "    \n",
    "    def __getitem__(self, idx):\n",
    "        data = torch.load(self.paths[idx]) # given index, load and return (embedding, label)\n",
    "        return data[\"embedding\"], self.labels[idx]\n"
   ]
  },
  {
   "cell_type": "markdown",
   "id": "4baf7706",
   "metadata": {},
   "source": [
    "Paths: We point to the folder that holds our new normalized feature files.\n",
    "\n",
    "Label Mapping: Text labels 'fake' and 'real' are converted to integers 0 and 1 for training.\n",
    "\n",
    "Hyperparameters:\n",
    "\n",
    "Batch Size = how many examples to process together.\n",
    "\n",
    "Epochs = how many times we go through the full training set.\n",
    "\n",
    "Learning Rate = controls how much the model weights change at each step.\n",
    "\n",
    "Dropout = helps prevent overfitting by randomly \"turning off\" neurons during training.\n",
    "\n",
    "Device: We automatically use GPU if available to speed up training massively.\n"
   ]
  },
  {
   "cell_type": "code",
   "execution_count": 47,
   "id": "1a7f7a33",
   "metadata": {},
   "outputs": [
    {
     "name": "stdout",
     "output_type": "stream",
     "text": [
      "Using device: cuda\n"
     ]
    }
   ],
   "source": [
    "# setup paths, hyperparameters, and device \n",
    "\n",
    "# path where extracted normalized embeddings are \n",
    "EMBEDDINGS_DIR = \"deepfake_audio_project/data/processed_embeddings_norm\"\n",
    "\n",
    "# label mapping - strings to integers \n",
    "label_to_idx = {'fake': 0, 'real': 1}\n",
    "\n",
    "# hyperparameters for training \n",
    "BATCH_SIZE = 64 # number of samples per batch\n",
    "NUM_EPOCHS = 50 # number of full passes through the dataset \n",
    "LEARNING_RATE = 1e-3 # learning rate for optimizer \n",
    "DROPOUT_P = 0.3 # dropout probability in model \n",
    "\n",
    "# device - gpu if available, else cpu \n",
    "device = torch.device('cuda' if torch.cuda.is_available() else 'cpu')\n",
    "print(f\"Using device: {device}\")\n"
   ]
  },
  {
   "cell_type": "markdown",
   "id": "adb8cc06",
   "metadata": {},
   "source": [
    "We use the DeepfakeAudioDataset custom class to create datasets for training, validation, and testing.\n",
    "\n",
    "Then wrap each dataset into a DataLoader:\n",
    "\n",
    "Train Loader shuffles data each epoch (good for learning).\n",
    "\n",
    "Validation/Test Loaders do not shuffle (we want consistent evaluation).\n",
    "\n",
    "Batch Size is set to 64, so the model sees 64 samples at a time.\n",
    "\n",
    "We print the number of examples in each set to verify everything looks right.\n",
    "\n"
   ]
  },
  {
   "cell_type": "code",
   "execution_count": 48,
   "id": "630c07ec",
   "metadata": {},
   "outputs": [
    {
     "name": "stdout",
     "output_type": "stream",
     "text": [
      "Train samples: 48665\n",
      "Validation samples: 10335\n",
      "Test samples: 2139\n"
     ]
    }
   ],
   "source": [
    "# create dataset objects for each split \n",
    "train_dataset = DeepfakeAudioDataset(EMBEDDINGS_DIR, split=\"training\", label_to_idx=label_to_idx)\n",
    "val_dataset = DeepfakeAudioDataset(EMBEDDINGS_DIR, split=\"validation\", label_to_idx=label_to_idx)\n",
    "test_dataset = DeepfakeAudioDataset(EMBEDDINGS_DIR, split=\"testing\", label_to_idx=label_to_idx)\n",
    "\n",
    "# wrap the datasets into DataLoaders to enable batching \n",
    "train_loader = DataLoader(train_dataset, batch_size=BATCH_SIZE, shuffle=True)\n",
    "val_loader = DataLoader(val_dataset, batch_size=BATCH_SIZE, shuffle=False)\n",
    "test_loader = DataLoader(test_dataset, batch_size=BATCH_SIZE, shuffle=False)\n",
    "\n",
    "# print dataset sizes for my sanity\n",
    "print(f\"Train samples: {len(train_dataset)}\")\n",
    "print(f\"Validation samples: {len(val_dataset)}\")\n",
    "print(f\"Test samples: {len(test_dataset)}\")\n"
   ]
  },
  {
   "cell_type": "markdown",
   "id": "81f1f258",
   "metadata": {},
   "source": [
    "### Architecture:\n",
    "\n",
    "Input: 768-dimension Wav2Vec2 embeddings.\n",
    "\n",
    "Hidden Layers: Gradually reduce feature size (768 → 512 → 256 → 128).\n",
    "\n",
    "Batch Normalization after each layer to stabilize learning.\n",
    "\n",
    "ReLU activations to introduce non-linearity.\n",
    "\n",
    "Dropout layers after every activation to prevent overfitting.\n",
    "\n",
    "Final Layer outputs 2 neurons (for binary classification: Fake or Real).\n",
    "\n",
    "Dropout: Randomly drops neurons during training (30% probability), which helps generalize better.\n",
    "\n",
    "Goal: Learn complex, non-linear mappings from embeddings → prediction.\n",
    "\n"
   ]
  },
  {
   "cell_type": "code",
   "execution_count": 49,
   "id": "6244b322",
   "metadata": {},
   "outputs": [
    {
     "name": "stdout",
     "output_type": "stream",
     "text": [
      "SuperDeepMLPClassifier(\n",
      "  (net): Sequential(\n",
      "    (0): Linear(in_features=768, out_features=768, bias=True)\n",
      "    (1): BatchNorm1d(768, eps=1e-05, momentum=0.1, affine=True, track_running_stats=True)\n",
      "    (2): ReLU()\n",
      "    (3): Dropout(p=0.3, inplace=False)\n",
      "    (4): Linear(in_features=768, out_features=512, bias=True)\n",
      "    (5): BatchNorm1d(512, eps=1e-05, momentum=0.1, affine=True, track_running_stats=True)\n",
      "    (6): ReLU()\n",
      "    (7): Dropout(p=0.3, inplace=False)\n",
      "    (8): Linear(in_features=512, out_features=256, bias=True)\n",
      "    (9): BatchNorm1d(256, eps=1e-05, momentum=0.1, affine=True, track_running_stats=True)\n",
      "    (10): ReLU()\n",
      "    (11): Dropout(p=0.3, inplace=False)\n",
      "    (12): Linear(in_features=256, out_features=128, bias=True)\n",
      "    (13): BatchNorm1d(128, eps=1e-05, momentum=0.1, affine=True, track_running_stats=True)\n",
      "    (14): ReLU()\n",
      "    (15): Dropout(p=0.3, inplace=False)\n",
      "    (16): Linear(in_features=128, out_features=2, bias=True)\n",
      "  )\n",
      ")\n"
     ]
    }
   ],
   "source": [
    "# define deep MLP classifier \n",
    "\n",
    "class SuperDeepMLPClassifier(nn.Module):\n",
    "    def __init__(self, input_dim, dropout_p=0.3):\n",
    "        super(SuperDeepMLPClassifier, self).__init__()\n",
    "        self.net = nn.Sequential( # first layer \n",
    "            nn.Linear(input_dim, 768),\n",
    "            nn.BatchNorm1d(768),\n",
    "            nn.ReLU(),\n",
    "            nn.Dropout(dropout_p),\n",
    "            \n",
    "            nn.Linear(768, 512),\n",
    "            nn.BatchNorm1d(512),\n",
    "            nn.ReLU(),\n",
    "            nn.Dropout(dropout_p),\n",
    "            \n",
    "            nn.Linear(512, 256),\n",
    "            nn.BatchNorm1d(256),\n",
    "            nn.ReLU(),\n",
    "            nn.Dropout(dropout_p),\n",
    "            \n",
    "            nn.Linear(256, 128),\n",
    "            nn.BatchNorm1d(128),\n",
    "            nn.ReLU(),\n",
    "            nn.Dropout(dropout_p),\n",
    "            \n",
    "            nn.Linear(128, 2)  # 2 output classes: fake, real\n",
    "        )\n",
    "        \n",
    "    def forward(self, x):\n",
    "        return self.net(x)\n",
    "\n",
    "# instantiate model\n",
    "input_dim = 768  # size of Wav2Vec2 embeddings\n",
    "model = SuperDeepMLPClassifier(input_dim=input_dim, dropout_p=DROPOUT_P).to(device)\n",
    "print(model)\n"
   ]
  },
  {
   "cell_type": "markdown",
   "id": "a2ee3c73",
   "metadata": {},
   "source": [
    "Loss Function:\n",
    "\n",
    "We use CrossEntropyLoss, which is standard for multi-class classification (even though we have only 2 classes).\n",
    "\n",
    "No need for class weights now because we manually balanced the real/fake counts in the dataset.\n",
    "\n",
    "Optimizer:\n",
    "\n",
    "Adam optimizer is chosen because it adapts learning rates for each parameter automatically.\n",
    "\n",
    "Learning rate = 1e-3, meaning weights are updated moderately after each batch."
   ]
  },
  {
   "cell_type": "code",
   "execution_count": 50,
   "id": "36dd16a3",
   "metadata": {},
   "outputs": [],
   "source": [
    "# set up loss function and optimizer \n",
    "# dataset is quite balanced now, so no manually applied class weightd \n",
    "criterion = nn.CrossEntropyLoss()\n",
    "\n",
    "# optimizer - Adam! \n",
    "optimizer = optim.Adam(model.parameters(), lr=LEARNING_RATE)\n"
   ]
  },
  {
   "cell_type": "markdown",
   "id": "3f1faa92",
   "metadata": {},
   "source": [
    "## Training! \n",
    "\n",
    "Training Mode: Activates dropout and batchnorm behavior correctly during learning.\n",
    "\n",
    "Optimizer Step: After calculating the gradients, we apply optimizer.step() to actually adjust the model weights.\n",
    "\n",
    "Validation Phase: \n",
    "\n",
    "After every epoch, we check the model's performance on unseen validation data.\n",
    "\n",
    "No gradient calculations during validation (torch.no_grad()).\n",
    "\n",
    "Model Saving: Only saves the model if it achieves a new highest validation accuracy.\n",
    "\n",
    "Progress Reporting: Prints average training loss and validation accuracy after every epoch.\n",
    "\n",
    "\n"
   ]
  },
  {
   "cell_type": "code",
   "execution_count": 51,
   "id": "3eac332c",
   "metadata": {},
   "outputs": [
    {
     "name": "stderr",
     "output_type": "stream",
     "text": [
      "Epoch 1/50 [Training]: 100%|██████████| 761/761 [00:39<00:00, 19.35it/s]\n"
     ]
    },
    {
     "name": "stdout",
     "output_type": "stream",
     "text": [
      "Epoch 1/50 - Train Loss: 0.3582 - Val Acc: 0.8600\n"
     ]
    },
    {
     "name": "stderr",
     "output_type": "stream",
     "text": [
      "Epoch 2/50 [Training]: 100%|██████████| 761/761 [00:36<00:00, 20.69it/s]\n"
     ]
    },
    {
     "name": "stdout",
     "output_type": "stream",
     "text": [
      "Epoch 2/50 - Train Loss: 0.3090 - Val Acc: 0.8771\n"
     ]
    },
    {
     "name": "stderr",
     "output_type": "stream",
     "text": [
      "Epoch 3/50 [Training]: 100%|██████████| 761/761 [00:36<00:00, 20.77it/s]\n"
     ]
    },
    {
     "name": "stdout",
     "output_type": "stream",
     "text": [
      "Epoch 3/50 - Train Loss: 0.2939 - Val Acc: 0.8741\n"
     ]
    },
    {
     "name": "stderr",
     "output_type": "stream",
     "text": [
      "Epoch 4/50 [Training]: 100%|██████████| 761/761 [00:35<00:00, 21.22it/s]\n"
     ]
    },
    {
     "name": "stdout",
     "output_type": "stream",
     "text": [
      "Epoch 4/50 - Train Loss: 0.2820 - Val Acc: 0.8884\n"
     ]
    },
    {
     "name": "stderr",
     "output_type": "stream",
     "text": [
      "Epoch 5/50 [Training]: 100%|██████████| 761/761 [00:36<00:00, 20.67it/s]\n"
     ]
    },
    {
     "name": "stdout",
     "output_type": "stream",
     "text": [
      "Epoch 5/50 - Train Loss: 0.2712 - Val Acc: 0.8891\n"
     ]
    },
    {
     "name": "stderr",
     "output_type": "stream",
     "text": [
      "Epoch 6/50 [Training]: 100%|██████████| 761/761 [00:37<00:00, 20.56it/s]\n"
     ]
    },
    {
     "name": "stdout",
     "output_type": "stream",
     "text": [
      "Epoch 6/50 - Train Loss: 0.2637 - Val Acc: 0.8778\n"
     ]
    },
    {
     "name": "stderr",
     "output_type": "stream",
     "text": [
      "Epoch 7/50 [Training]: 100%|██████████| 761/761 [00:36<00:00, 20.68it/s]\n"
     ]
    },
    {
     "name": "stdout",
     "output_type": "stream",
     "text": [
      "Epoch 7/50 - Train Loss: 0.2557 - Val Acc: 0.8564\n"
     ]
    },
    {
     "name": "stderr",
     "output_type": "stream",
     "text": [
      "Epoch 8/50 [Training]: 100%|██████████| 761/761 [00:36<00:00, 20.91it/s]\n"
     ]
    },
    {
     "name": "stdout",
     "output_type": "stream",
     "text": [
      "Epoch 8/50 - Train Loss: 0.2480 - Val Acc: 0.8606\n"
     ]
    },
    {
     "name": "stderr",
     "output_type": "stream",
     "text": [
      "Epoch 9/50 [Training]: 100%|██████████| 761/761 [00:37<00:00, 20.50it/s]\n"
     ]
    },
    {
     "name": "stdout",
     "output_type": "stream",
     "text": [
      "Epoch 9/50 - Train Loss: 0.2416 - Val Acc: 0.8535\n"
     ]
    },
    {
     "name": "stderr",
     "output_type": "stream",
     "text": [
      "Epoch 10/50 [Training]: 100%|██████████| 761/761 [00:36<00:00, 20.57it/s]\n"
     ]
    },
    {
     "name": "stdout",
     "output_type": "stream",
     "text": [
      "Epoch 10/50 - Train Loss: 0.2361 - Val Acc: 0.8856\n"
     ]
    },
    {
     "name": "stderr",
     "output_type": "stream",
     "text": [
      "Epoch 11/50 [Training]: 100%|██████████| 761/761 [00:36<00:00, 21.06it/s]\n"
     ]
    },
    {
     "name": "stdout",
     "output_type": "stream",
     "text": [
      "Epoch 11/50 - Train Loss: 0.2290 - Val Acc: 0.8994\n"
     ]
    },
    {
     "name": "stderr",
     "output_type": "stream",
     "text": [
      "Epoch 12/50 [Training]: 100%|██████████| 761/761 [00:36<00:00, 20.79it/s]\n"
     ]
    },
    {
     "name": "stdout",
     "output_type": "stream",
     "text": [
      "Epoch 12/50 - Train Loss: 0.2257 - Val Acc: 0.9031\n"
     ]
    },
    {
     "name": "stderr",
     "output_type": "stream",
     "text": [
      "Epoch 13/50 [Training]: 100%|██████████| 761/761 [00:37<00:00, 20.41it/s]\n"
     ]
    },
    {
     "name": "stdout",
     "output_type": "stream",
     "text": [
      "Epoch 13/50 - Train Loss: 0.2178 - Val Acc: 0.9010\n"
     ]
    },
    {
     "name": "stderr",
     "output_type": "stream",
     "text": [
      "Epoch 14/50 [Training]: 100%|██████████| 761/761 [00:37<00:00, 20.54it/s]\n"
     ]
    },
    {
     "name": "stdout",
     "output_type": "stream",
     "text": [
      "Epoch 14/50 - Train Loss: 0.2091 - Val Acc: 0.9004\n"
     ]
    },
    {
     "name": "stderr",
     "output_type": "stream",
     "text": [
      "Epoch 15/50 [Training]: 100%|██████████| 761/761 [00:36<00:00, 20.64it/s]\n"
     ]
    },
    {
     "name": "stdout",
     "output_type": "stream",
     "text": [
      "Epoch 15/50 - Train Loss: 0.2064 - Val Acc: 0.8952\n"
     ]
    },
    {
     "name": "stderr",
     "output_type": "stream",
     "text": [
      "Epoch 16/50 [Training]: 100%|██████████| 761/761 [00:37<00:00, 20.44it/s]\n"
     ]
    },
    {
     "name": "stdout",
     "output_type": "stream",
     "text": [
      "Epoch 16/50 - Train Loss: 0.2033 - Val Acc: 0.8986\n"
     ]
    },
    {
     "name": "stderr",
     "output_type": "stream",
     "text": [
      "Epoch 17/50 [Training]: 100%|██████████| 761/761 [00:36<00:00, 20.62it/s]\n"
     ]
    },
    {
     "name": "stdout",
     "output_type": "stream",
     "text": [
      "Epoch 17/50 - Train Loss: 0.1958 - Val Acc: 0.8303\n"
     ]
    },
    {
     "name": "stderr",
     "output_type": "stream",
     "text": [
      "Epoch 18/50 [Training]: 100%|██████████| 761/761 [00:36<00:00, 20.64it/s]\n"
     ]
    },
    {
     "name": "stdout",
     "output_type": "stream",
     "text": [
      "Epoch 18/50 - Train Loss: 0.1901 - Val Acc: 0.9019\n"
     ]
    },
    {
     "name": "stderr",
     "output_type": "stream",
     "text": [
      "Epoch 19/50 [Training]: 100%|██████████| 761/761 [00:36<00:00, 21.10it/s]\n"
     ]
    },
    {
     "name": "stdout",
     "output_type": "stream",
     "text": [
      "Epoch 19/50 - Train Loss: 0.1830 - Val Acc: 0.8881\n"
     ]
    },
    {
     "name": "stderr",
     "output_type": "stream",
     "text": [
      "Epoch 20/50 [Training]: 100%|██████████| 761/761 [00:37<00:00, 20.47it/s]\n"
     ]
    },
    {
     "name": "stdout",
     "output_type": "stream",
     "text": [
      "Epoch 20/50 - Train Loss: 0.1795 - Val Acc: 0.8957\n"
     ]
    },
    {
     "name": "stderr",
     "output_type": "stream",
     "text": [
      "Epoch 21/50 [Training]: 100%|██████████| 761/761 [00:36<00:00, 20.65it/s]\n"
     ]
    },
    {
     "name": "stdout",
     "output_type": "stream",
     "text": [
      "Epoch 21/50 - Train Loss: 0.1734 - Val Acc: 0.9033\n"
     ]
    },
    {
     "name": "stderr",
     "output_type": "stream",
     "text": [
      "Epoch 22/50 [Training]: 100%|██████████| 761/761 [00:36<00:00, 20.84it/s]\n"
     ]
    },
    {
     "name": "stdout",
     "output_type": "stream",
     "text": [
      "Epoch 22/50 - Train Loss: 0.1710 - Val Acc: 0.9038\n"
     ]
    },
    {
     "name": "stderr",
     "output_type": "stream",
     "text": [
      "Epoch 23/50 [Training]: 100%|██████████| 761/761 [00:37<00:00, 20.27it/s]\n"
     ]
    },
    {
     "name": "stdout",
     "output_type": "stream",
     "text": [
      "Epoch 23/50 - Train Loss: 0.1668 - Val Acc: 0.9032\n"
     ]
    },
    {
     "name": "stderr",
     "output_type": "stream",
     "text": [
      "Epoch 24/50 [Training]: 100%|██████████| 761/761 [00:36<00:00, 20.64it/s]\n"
     ]
    },
    {
     "name": "stdout",
     "output_type": "stream",
     "text": [
      "Epoch 24/50 - Train Loss: 0.1621 - Val Acc: 0.9068\n"
     ]
    },
    {
     "name": "stderr",
     "output_type": "stream",
     "text": [
      "Epoch 25/50 [Training]: 100%|██████████| 761/761 [00:36<00:00, 20.61it/s]\n"
     ]
    },
    {
     "name": "stdout",
     "output_type": "stream",
     "text": [
      "Epoch 25/50 - Train Loss: 0.1580 - Val Acc: 0.9074\n"
     ]
    },
    {
     "name": "stderr",
     "output_type": "stream",
     "text": [
      "Epoch 26/50 [Training]: 100%|██████████| 761/761 [00:37<00:00, 20.32it/s]\n"
     ]
    },
    {
     "name": "stdout",
     "output_type": "stream",
     "text": [
      "Epoch 26/50 - Train Loss: 0.1552 - Val Acc: 0.9017\n"
     ]
    },
    {
     "name": "stderr",
     "output_type": "stream",
     "text": [
      "Epoch 27/50 [Training]: 100%|██████████| 761/761 [00:36<00:00, 20.72it/s]\n"
     ]
    },
    {
     "name": "stdout",
     "output_type": "stream",
     "text": [
      "Epoch 27/50 - Train Loss: 0.1502 - Val Acc: 0.9051\n"
     ]
    },
    {
     "name": "stderr",
     "output_type": "stream",
     "text": [
      "Epoch 28/50 [Training]: 100%|██████████| 761/761 [00:36<00:00, 20.76it/s]\n"
     ]
    },
    {
     "name": "stdout",
     "output_type": "stream",
     "text": [
      "Epoch 28/50 - Train Loss: 0.1423 - Val Acc: 0.9137\n"
     ]
    },
    {
     "name": "stderr",
     "output_type": "stream",
     "text": [
      "Epoch 29/50 [Training]: 100%|██████████| 761/761 [00:36<00:00, 20.67it/s]\n"
     ]
    },
    {
     "name": "stdout",
     "output_type": "stream",
     "text": [
      "Epoch 29/50 - Train Loss: 0.1413 - Val Acc: 0.9060\n"
     ]
    },
    {
     "name": "stderr",
     "output_type": "stream",
     "text": [
      "Epoch 30/50 [Training]: 100%|██████████| 761/761 [00:36<00:00, 20.79it/s]\n"
     ]
    },
    {
     "name": "stdout",
     "output_type": "stream",
     "text": [
      "Epoch 30/50 - Train Loss: 0.1375 - Val Acc: 0.9090\n"
     ]
    },
    {
     "name": "stderr",
     "output_type": "stream",
     "text": [
      "Epoch 31/50 [Training]: 100%|██████████| 761/761 [00:36<00:00, 20.87it/s]\n"
     ]
    },
    {
     "name": "stdout",
     "output_type": "stream",
     "text": [
      "Epoch 31/50 - Train Loss: 0.1357 - Val Acc: 0.9089\n"
     ]
    },
    {
     "name": "stderr",
     "output_type": "stream",
     "text": [
      "Epoch 32/50 [Training]: 100%|██████████| 761/761 [00:36<00:00, 20.70it/s]\n"
     ]
    },
    {
     "name": "stdout",
     "output_type": "stream",
     "text": [
      "Epoch 32/50 - Train Loss: 0.1320 - Val Acc: 0.9086\n"
     ]
    },
    {
     "name": "stderr",
     "output_type": "stream",
     "text": [
      "Epoch 33/50 [Training]: 100%|██████████| 761/761 [00:37<00:00, 20.45it/s]\n"
     ]
    },
    {
     "name": "stdout",
     "output_type": "stream",
     "text": [
      "Epoch 33/50 - Train Loss: 0.1272 - Val Acc: 0.9073\n"
     ]
    },
    {
     "name": "stderr",
     "output_type": "stream",
     "text": [
      "Epoch 34/50 [Training]: 100%|██████████| 761/761 [00:37<00:00, 20.56it/s]\n"
     ]
    },
    {
     "name": "stdout",
     "output_type": "stream",
     "text": [
      "Epoch 34/50 - Train Loss: 0.1248 - Val Acc: 0.8941\n"
     ]
    },
    {
     "name": "stderr",
     "output_type": "stream",
     "text": [
      "Epoch 35/50 [Training]: 100%|██████████| 761/761 [00:37<00:00, 20.52it/s]\n"
     ]
    },
    {
     "name": "stdout",
     "output_type": "stream",
     "text": [
      "Epoch 35/50 - Train Loss: 0.1216 - Val Acc: 0.9089\n"
     ]
    },
    {
     "name": "stderr",
     "output_type": "stream",
     "text": [
      "Epoch 36/50 [Training]: 100%|██████████| 761/761 [00:36<00:00, 20.80it/s]\n"
     ]
    },
    {
     "name": "stdout",
     "output_type": "stream",
     "text": [
      "Epoch 36/50 - Train Loss: 0.1215 - Val Acc: 0.9054\n"
     ]
    },
    {
     "name": "stderr",
     "output_type": "stream",
     "text": [
      "Epoch 37/50 [Training]: 100%|██████████| 761/761 [00:37<00:00, 20.36it/s]\n"
     ]
    },
    {
     "name": "stdout",
     "output_type": "stream",
     "text": [
      "Epoch 37/50 - Train Loss: 0.1164 - Val Acc: 0.9134\n"
     ]
    },
    {
     "name": "stderr",
     "output_type": "stream",
     "text": [
      "Epoch 38/50 [Training]: 100%|██████████| 761/761 [00:36<00:00, 20.98it/s]\n"
     ]
    },
    {
     "name": "stdout",
     "output_type": "stream",
     "text": [
      "Epoch 38/50 - Train Loss: 0.1172 - Val Acc: 0.9087\n"
     ]
    },
    {
     "name": "stderr",
     "output_type": "stream",
     "text": [
      "Epoch 39/50 [Training]: 100%|██████████| 761/761 [00:35<00:00, 21.19it/s]\n"
     ]
    },
    {
     "name": "stdout",
     "output_type": "stream",
     "text": [
      "Epoch 39/50 - Train Loss: 0.1129 - Val Acc: 0.9123\n"
     ]
    },
    {
     "name": "stderr",
     "output_type": "stream",
     "text": [
      "Epoch 40/50 [Training]: 100%|██████████| 761/761 [00:37<00:00, 20.35it/s]\n"
     ]
    },
    {
     "name": "stdout",
     "output_type": "stream",
     "text": [
      "Epoch 40/50 - Train Loss: 0.1108 - Val Acc: 0.9111\n"
     ]
    },
    {
     "name": "stderr",
     "output_type": "stream",
     "text": [
      "Epoch 41/50 [Training]: 100%|██████████| 761/761 [00:36<00:00, 20.65it/s]\n"
     ]
    },
    {
     "name": "stdout",
     "output_type": "stream",
     "text": [
      "Epoch 41/50 - Train Loss: 0.1052 - Val Acc: 0.9162\n"
     ]
    },
    {
     "name": "stderr",
     "output_type": "stream",
     "text": [
      "Epoch 42/50 [Training]: 100%|██████████| 761/761 [00:37<00:00, 20.46it/s]\n"
     ]
    },
    {
     "name": "stdout",
     "output_type": "stream",
     "text": [
      "Epoch 42/50 - Train Loss: 0.1029 - Val Acc: 0.9136\n"
     ]
    },
    {
     "name": "stderr",
     "output_type": "stream",
     "text": [
      "Epoch 43/50 [Training]: 100%|██████████| 761/761 [00:37<00:00, 20.30it/s]\n"
     ]
    },
    {
     "name": "stdout",
     "output_type": "stream",
     "text": [
      "Epoch 43/50 - Train Loss: 0.1016 - Val Acc: 0.9117\n"
     ]
    },
    {
     "name": "stderr",
     "output_type": "stream",
     "text": [
      "Epoch 44/50 [Training]: 100%|██████████| 761/761 [00:36<00:00, 20.75it/s]\n"
     ]
    },
    {
     "name": "stdout",
     "output_type": "stream",
     "text": [
      "Epoch 44/50 - Train Loss: 0.0984 - Val Acc: 0.9116\n"
     ]
    },
    {
     "name": "stderr",
     "output_type": "stream",
     "text": [
      "Epoch 45/50 [Training]: 100%|██████████| 761/761 [00:37<00:00, 20.40it/s]\n"
     ]
    },
    {
     "name": "stdout",
     "output_type": "stream",
     "text": [
      "Epoch 45/50 - Train Loss: 0.0981 - Val Acc: 0.9035\n"
     ]
    },
    {
     "name": "stderr",
     "output_type": "stream",
     "text": [
      "Epoch 46/50 [Training]: 100%|██████████| 761/761 [00:36<00:00, 20.60it/s]\n"
     ]
    },
    {
     "name": "stdout",
     "output_type": "stream",
     "text": [
      "Epoch 46/50 - Train Loss: 0.0961 - Val Acc: 0.9155\n"
     ]
    },
    {
     "name": "stderr",
     "output_type": "stream",
     "text": [
      "Epoch 47/50 [Training]: 100%|██████████| 761/761 [00:36<00:00, 20.69it/s]\n"
     ]
    },
    {
     "name": "stdout",
     "output_type": "stream",
     "text": [
      "Epoch 47/50 - Train Loss: 0.0930 - Val Acc: 0.9133\n"
     ]
    },
    {
     "name": "stderr",
     "output_type": "stream",
     "text": [
      "Epoch 48/50 [Training]: 100%|██████████| 761/761 [00:36<00:00, 20.57it/s]\n"
     ]
    },
    {
     "name": "stdout",
     "output_type": "stream",
     "text": [
      "Epoch 48/50 - Train Loss: 0.0930 - Val Acc: 0.9119\n"
     ]
    },
    {
     "name": "stderr",
     "output_type": "stream",
     "text": [
      "Epoch 49/50 [Training]: 100%|██████████| 761/761 [00:37<00:00, 20.53it/s]\n"
     ]
    },
    {
     "name": "stdout",
     "output_type": "stream",
     "text": [
      "Epoch 49/50 - Train Loss: 0.0885 - Val Acc: 0.9141\n"
     ]
    },
    {
     "name": "stderr",
     "output_type": "stream",
     "text": [
      "Epoch 50/50 [Training]: 100%|██████████| 761/761 [00:36<00:00, 20.63it/s]\n"
     ]
    },
    {
     "name": "stdout",
     "output_type": "stream",
     "text": [
      "Epoch 50/50 - Train Loss: 0.0907 - Val Acc: 0.9117\n",
      "Training complete!\n"
     ]
    }
   ],
   "source": [
    "# training - best validation accuracy \n",
    "best_val_acc = 0\n",
    "\n",
    "# loop over epochs \n",
    "for epoch in range(NUM_EPOCHS):\n",
    "    model.train() # set model to training mode \n",
    "    running_loss = 0.0\n",
    "    \n",
    "    # loop over training batches \n",
    "    for inputs, labels in tqdm(train_loader, desc=f\"Epoch {epoch+1}/{NUM_EPOCHS} [Training]\"):\n",
    "        # move data to gpu/cpu \n",
    "        inputs, labels = inputs.to(device), labels.to(device)\n",
    "\n",
    "        optimizer.zero_grad() # reset gradients\n",
    "        outputs = model(inputs) # forward pass \n",
    "        loss = criterion(outputs, labels) # compute loss\n",
    "        loss.backward() # backpropagation\n",
    "        optimizer.step() # update weights \n",
    "\n",
    "        running_loss += loss.item()\n",
    "\n",
    "    avg_train_loss = running_loss / len(train_loader) # accumulate batch loss \n",
    "\n",
    "    # validation after each epoch \n",
    "    model.eval() # set model to evaluation mode \n",
    "    correct = 0\n",
    "    total = 0\n",
    "    \n",
    "    with torch.no_grad(): # no gradient computation during evaluation \n",
    "        for inputs, labels in val_loader:\n",
    "            inputs, labels = inputs.to(device), labels.to(device)\n",
    "            outputs = model(inputs)\n",
    "            _, preds = torch.max(outputs, 1) # predicted class \n",
    "            correct += (preds == labels).sum().item()\n",
    "            total += labels.size(0)\n",
    "\n",
    "    val_acc = correct / total # compute validation accuracy\n",
    "\n",
    "    # epoch stats \n",
    "    print(f\"Epoch {epoch+1}/{NUM_EPOCHS} - Train Loss: {avg_train_loss:.4f} - Val Acc: {val_acc:.4f}\")\n",
    "\n",
    "    # save best model\n",
    "    if val_acc > best_val_acc:\n",
    "        best_val_acc = val_acc\n",
    "        torch.save(model.state_dict(), \"best_superdeep_mlp_final50.pth\")\n",
    "\n",
    "print(\"Training complete!\")\n"
   ]
  },
  {
   "cell_type": "markdown",
   "id": "c3961243",
   "metadata": {},
   "source": [
    "### Model Loading:\n",
    "\n",
    "Loads the best saved model (highest validation accuracy).\n",
    "\n",
    "Evaluation Loop:\n",
    "\n",
    "* Goes through the test set without tracking gradients (saves memory and speeds up).\n",
    "\n",
    "* Tracks number of correct predictions.\n",
    "\n",
    "* Collects all outputs and labels to compute detailed metrics later.\n",
    "\n",
    "Classification Report:\n",
    "\n",
    "* Prints precision, recall, and F1-score for both 'Fake' and 'Real' classes.\n",
    "\n",
    "Confusion Matrix:\n",
    "\n",
    "* Table showing true positives, false positives, true negatives, false negatives.\n",
    "\n",
    "* Helps understand exactly where the model is making mistakes.\n",
    "\n"
   ]
  },
  {
   "cell_type": "code",
   "execution_count": 54,
   "id": "28ee41e2",
   "metadata": {},
   "outputs": [
    {
     "name": "stderr",
     "output_type": "stream",
     "text": [
      "Testing: 100%|██████████| 34/34 [00:01<00:00, 21.93it/s]\n"
     ]
    },
    {
     "name": "stdout",
     "output_type": "stream",
     "text": [
      "\n",
      "Final Test Accuracy: 0.9088\n",
      "\n",
      "Classification Report:\n",
      "              precision    recall  f1-score   support\n",
      "\n",
      "        Fake       0.93      0.90      0.91      1139\n",
      "        Real       0.89      0.92      0.90      1000\n",
      "\n",
      "    accuracy                           0.91      2139\n",
      "   macro avg       0.91      0.91      0.91      2139\n",
      "weighted avg       0.91      0.91      0.91      2139\n",
      "\n"
     ]
    },
    {
     "data": {
      "image/png": "[encoded data removed]",
      "text/plain": [
       "<Figure size 600x600 with 2 Axes>"
      ]
     },
     "metadata": {},
     "output_type": "display_data"
    }
   ],
   "source": [
    "# load best model and evaluate on test set \n",
    "\n",
    "# load the best model based on validation accuracy\n",
    "model.load_state_dict(torch.load(\"best_superdeep_mlp_final50.pth\"))\n",
    "\n",
    "# setting model to evaluation mode\n",
    "model.eval()\n",
    "\n",
    "# performance variables \n",
    "correct = 0\n",
    "total = 0\n",
    "all_preds = [] # store all predicted labels\n",
    "all_labels = [] # store ground truth labels \n",
    "\n",
    "# loop over the test set\n",
    "with torch.no_grad(): # no gradients needed for evaluation \n",
    "    for inputs, labels in tqdm(test_loader, desc=\"Testing\"):\n",
    "        inputs, labels = inputs.to(device), labels.to(device)\n",
    "        outputs = model(inputs)\n",
    "        _, preds = torch.max(outputs, 1) # predicted class\n",
    "        correct += (preds == labels).sum().item()\n",
    "        total += labels.size(0)\n",
    "        all_preds.append(preds.cpu()) # cpu for metrics \n",
    "        all_labels.append(labels.cpu())\n",
    "\n",
    "# final test accuracy \n",
    "test_acc = correct / total\n",
    "print(f\"\\nFinal Test Accuracy: {test_acc:.4f}\")\n",
    "\n",
    "# ---- performance reporting ---\n",
    "# flatten predictions and labels into single tensors \n",
    "all_preds = torch.cat(all_preds)\n",
    "all_labels = torch.cat(all_labels)\n",
    "\n",
    "# classification report (precision, recall, f1-score, etc.)\n",
    "print(\"\\nClassification Report:\")\n",
    "print(classification_report(all_labels, all_preds, target_names=['Fake', 'Real']))\n",
    "\n",
    "# confusion matrix\n",
    "cm = confusion_matrix(all_labels, all_preds)\n",
    "plt.figure(figsize=(6, 6))\n",
    "plt.imshow(cm, interpolation='nearest', cmap=plt.cm.Blues)\n",
    "plt.title('Confusion Matrix', fontsize=14)\n",
    "plt.colorbar()\n",
    "tick_marks = np.arange(2)\n",
    "plt.xticks(tick_marks, ['Fake', 'Real'], fontsize=12)\n",
    "plt.yticks(tick_marks, ['Fake', 'Real'], fontsize=12)\n",
    "plt.xlabel('Predicted label', fontsize=12)\n",
    "plt.ylabel('True label', fontsize=12)\n",
    "\n",
    "# adding number labels\n",
    "for i in range(cm.shape[0]):\n",
    "    for j in range(cm.shape[1]):\n",
    "        plt.text(j, i, str(cm[i, j]),\n",
    "                 ha='center', va='center',\n",
    "                 color='black', fontsize=12)\n",
    "\n",
    "plt.tight_layout()\n",
    "plt.show()\n"
   ]
  },
  {
   "cell_type": "markdown",
   "id": "4479cb11",
   "metadata": {},
   "source": [
    "### Final Test Accuracy: 90.69%\n",
    "\n",
    "Total Test Samples: 1139\n",
    "\n",
    "Confusion Matrix: Very strong diagonal, showing most predictions are correct.\n",
    "\n",
    "#### Detailed Metrics:\n",
    "\n",
    "Fake class:\n",
    "\n",
    "Precision: 0.92 (how many predicted fake were actually fake)\n",
    "\n",
    "Recall: 0.91 (how many actual fake were correctly predicted)\n",
    "\n",
    "F1-Score: 0.92\n",
    "\n",
    "Real class:\n",
    "\n",
    "Precision: 0.89\n",
    "\n",
    "Recall: 0.90\n",
    "\n",
    "F1-Score: 0.89\n",
    "\n",
    "Accuracy (91%) shows the model can generalize well to unseen samples.\n",
    "\n",
    "Precision and Recall are both strong for both classes, meaning:\n",
    "\n",
    "* The model is not biased toward one class.\n",
    "\n",
    "* It correctly detects fake and real audios reliably.\n",
    "\n",
    "Confusion Matrix shows very few misclassifications:\n",
    "\n",
    "Top-left and bottom-right blocks (diagonal) are the highest → correct predictions.\n",
    "\n",
    "Balanced performance across fake and real classes.\n",
    "\n",
    "No signs of major overfitting despite 50 epochs of training.\n",
    "\n",
    "Good signs that embeddings from Wav2Vec2 + deep MLP classifier are working well!\n",
    "\n"
   ]
  },
  {
   "cell_type": "markdown",
   "id": "60ad9446",
   "metadata": {},
   "source": [
    "\n",
    "## Second level of training \n",
    "\n",
    "### First Training (Simple SuperDeepMLP Training)\n",
    "\n",
    "In the first training phase, I focused only on training the model itself.\n",
    "\n",
    "Tracked just the final validation accuracy at each epoch.\n",
    "\n",
    "But did not explicitly store or visualize the training loss or the validation accuracy trends across epochs.\n",
    "\n",
    "This phase simply aimed to get a working model and see what final performance could be achieved.\n",
    "\n",
    "### Second Training (SuperDeepMLP + Metric Tracking)\n",
    "\n",
    "In the second round, I retrained the same model architecture.\n",
    "\n",
    "But this time, I also saved two things at each epoch:\n",
    "\n",
    "* Training loss values.\n",
    "\n",
    "* Validation accuracy values.\n",
    "\n",
    "This allowed me to later plot curves of training loss and validation accuracy over time.\n",
    "\n",
    "The purpose was to gain deeper insight into how the model was learning, not just what final accuracy it achieved.\n",
    "\n",
    "This is important for error analysis and debugging (e.g., detecting overfitting, diagnosing if loss plateaued, etc.).\n",
    "\n",
    "So summary:\n",
    "\n",
    "First training = basic training, just reporting validation accuracy.\n",
    "\n",
    "Second training = full metric tracking (train loss + val acc per epoch) to allow diagnostic plots and deeper analysis.\n",
    "\n",
    "\n"
   ]
  },
  {
   "cell_type": "code",
   "execution_count": 31,
   "id": "689303d8",
   "metadata": {},
   "outputs": [
    {
     "name": "stderr",
     "output_type": "stream",
     "text": [
      "Epoch 1/50 [Training]: 100%|██████████| 774/774 [00:37<00:00, 20.87it/s]\n"
     ]
    },
    {
     "name": "stdout",
     "output_type": "stream",
     "text": [
      "Epoch 1/50 - Train Loss: 0.0974 - Val Acc: 0.9094\n"
     ]
    },
    {
     "name": "stderr",
     "output_type": "stream",
     "text": [
      "Epoch 2/50 [Training]: 100%|██████████| 774/774 [00:37<00:00, 20.80it/s]\n"
     ]
    },
    {
     "name": "stdout",
     "output_type": "stream",
     "text": [
      "Epoch 2/50 - Train Loss: 0.0968 - Val Acc: 0.9107\n"
     ]
    },
    {
     "name": "stderr",
     "output_type": "stream",
     "text": [
      "Epoch 3/50 [Training]: 100%|██████████| 774/774 [00:36<00:00, 21.18it/s]\n"
     ]
    },
    {
     "name": "stdout",
     "output_type": "stream",
     "text": [
      "Epoch 3/50 - Train Loss: 0.0907 - Val Acc: 0.9095\n"
     ]
    },
    {
     "name": "stderr",
     "output_type": "stream",
     "text": [
      "Epoch 4/50 [Training]: 100%|██████████| 774/774 [00:36<00:00, 21.20it/s]\n"
     ]
    },
    {
     "name": "stdout",
     "output_type": "stream",
     "text": [
      "Epoch 4/50 - Train Loss: 0.0919 - Val Acc: 0.9154\n"
     ]
    },
    {
     "name": "stderr",
     "output_type": "stream",
     "text": [
      "Epoch 5/50 [Training]: 100%|██████████| 774/774 [00:36<00:00, 20.92it/s]\n"
     ]
    },
    {
     "name": "stdout",
     "output_type": "stream",
     "text": [
      "Epoch 5/50 - Train Loss: 0.0890 - Val Acc: 0.9150\n"
     ]
    },
    {
     "name": "stderr",
     "output_type": "stream",
     "text": [
      "Epoch 6/50 [Training]: 100%|██████████| 774/774 [00:37<00:00, 20.79it/s]\n"
     ]
    },
    {
     "name": "stdout",
     "output_type": "stream",
     "text": [
      "Epoch 6/50 - Train Loss: 0.0882 - Val Acc: 0.9151\n"
     ]
    },
    {
     "name": "stderr",
     "output_type": "stream",
     "text": [
      "Epoch 7/50 [Training]: 100%|██████████| 774/774 [00:36<00:00, 21.10it/s]\n"
     ]
    },
    {
     "name": "stdout",
     "output_type": "stream",
     "text": [
      "Epoch 7/50 - Train Loss: 0.0884 - Val Acc: 0.9135\n"
     ]
    },
    {
     "name": "stderr",
     "output_type": "stream",
     "text": [
      "Epoch 8/50 [Training]: 100%|██████████| 774/774 [00:36<00:00, 21.28it/s]\n"
     ]
    },
    {
     "name": "stdout",
     "output_type": "stream",
     "text": [
      "Epoch 8/50 - Train Loss: 0.0879 - Val Acc: 0.9081\n"
     ]
    },
    {
     "name": "stderr",
     "output_type": "stream",
     "text": [
      "Epoch 9/50 [Training]: 100%|██████████| 774/774 [00:37<00:00, 20.79it/s]\n"
     ]
    },
    {
     "name": "stdout",
     "output_type": "stream",
     "text": [
      "Epoch 9/50 - Train Loss: 0.0848 - Val Acc: 0.9170\n"
     ]
    },
    {
     "name": "stderr",
     "output_type": "stream",
     "text": [
      "Epoch 10/50 [Training]: 100%|██████████| 774/774 [00:37<00:00, 20.84it/s]\n"
     ]
    },
    {
     "name": "stdout",
     "output_type": "stream",
     "text": [
      "Epoch 10/50 - Train Loss: 0.0798 - Val Acc: 0.9133\n"
     ]
    },
    {
     "name": "stderr",
     "output_type": "stream",
     "text": [
      "Epoch 11/50 [Training]: 100%|██████████| 774/774 [00:36<00:00, 20.93it/s]\n"
     ]
    },
    {
     "name": "stdout",
     "output_type": "stream",
     "text": [
      "Epoch 11/50 - Train Loss: 0.0793 - Val Acc: 0.9150\n"
     ]
    },
    {
     "name": "stderr",
     "output_type": "stream",
     "text": [
      "Epoch 12/50 [Training]: 100%|██████████| 774/774 [00:36<00:00, 21.02it/s]\n"
     ]
    },
    {
     "name": "stdout",
     "output_type": "stream",
     "text": [
      "Epoch 12/50 - Train Loss: 0.0785 - Val Acc: 0.9185\n"
     ]
    },
    {
     "name": "stderr",
     "output_type": "stream",
     "text": [
      "Epoch 13/50 [Training]: 100%|██████████| 774/774 [00:37<00:00, 20.91it/s]\n"
     ]
    },
    {
     "name": "stdout",
     "output_type": "stream",
     "text": [
      "Epoch 13/50 - Train Loss: 0.0799 - Val Acc: 0.9133\n"
     ]
    },
    {
     "name": "stderr",
     "output_type": "stream",
     "text": [
      "Epoch 14/50 [Training]: 100%|██████████| 774/774 [00:37<00:00, 20.65it/s]\n"
     ]
    },
    {
     "name": "stdout",
     "output_type": "stream",
     "text": [
      "Epoch 14/50 - Train Loss: 0.0782 - Val Acc: 0.9170\n"
     ]
    },
    {
     "name": "stderr",
     "output_type": "stream",
     "text": [
      "Epoch 15/50 [Training]: 100%|██████████| 774/774 [00:37<00:00, 20.87it/s]\n"
     ]
    },
    {
     "name": "stdout",
     "output_type": "stream",
     "text": [
      "Epoch 15/50 - Train Loss: 0.0739 - Val Acc: 0.9117\n"
     ]
    },
    {
     "name": "stderr",
     "output_type": "stream",
     "text": [
      "Epoch 16/50 [Training]: 100%|██████████| 774/774 [00:36<00:00, 21.09it/s]\n"
     ]
    },
    {
     "name": "stdout",
     "output_type": "stream",
     "text": [
      "Epoch 16/50 - Train Loss: 0.0753 - Val Acc: 0.9177\n"
     ]
    },
    {
     "name": "stderr",
     "output_type": "stream",
     "text": [
      "Epoch 17/50 [Training]: 100%|██████████| 774/774 [00:37<00:00, 20.67it/s]\n"
     ]
    },
    {
     "name": "stdout",
     "output_type": "stream",
     "text": [
      "Epoch 17/50 - Train Loss: 0.0772 - Val Acc: 0.9140\n"
     ]
    },
    {
     "name": "stderr",
     "output_type": "stream",
     "text": [
      "Epoch 18/50 [Training]: 100%|██████████| 774/774 [00:37<00:00, 20.79it/s]\n"
     ]
    },
    {
     "name": "stdout",
     "output_type": "stream",
     "text": [
      "Epoch 18/50 - Train Loss: 0.0724 - Val Acc: 0.9105\n"
     ]
    },
    {
     "name": "stderr",
     "output_type": "stream",
     "text": [
      "Epoch 19/50 [Training]: 100%|██████████| 774/774 [00:37<00:00, 20.83it/s]\n"
     ]
    },
    {
     "name": "stdout",
     "output_type": "stream",
     "text": [
      "Epoch 19/50 - Train Loss: 0.0726 - Val Acc: 0.9191\n"
     ]
    },
    {
     "name": "stderr",
     "output_type": "stream",
     "text": [
      "Epoch 20/50 [Training]: 100%|██████████| 774/774 [00:37<00:00, 20.47it/s]\n"
     ]
    },
    {
     "name": "stdout",
     "output_type": "stream",
     "text": [
      "Epoch 20/50 - Train Loss: 0.0704 - Val Acc: 0.9099\n"
     ]
    },
    {
     "name": "stderr",
     "output_type": "stream",
     "text": [
      "Epoch 21/50 [Training]: 100%|██████████| 774/774 [00:36<00:00, 20.94it/s]\n"
     ]
    },
    {
     "name": "stdout",
     "output_type": "stream",
     "text": [
      "Epoch 21/50 - Train Loss: 0.0690 - Val Acc: 0.9170\n"
     ]
    },
    {
     "name": "stderr",
     "output_type": "stream",
     "text": [
      "Epoch 22/50 [Training]: 100%|██████████| 774/774 [00:36<00:00, 21.17it/s]\n"
     ]
    },
    {
     "name": "stdout",
     "output_type": "stream",
     "text": [
      "Epoch 22/50 - Train Loss: 0.0719 - Val Acc: 0.9182\n"
     ]
    },
    {
     "name": "stderr",
     "output_type": "stream",
     "text": [
      "Epoch 23/50 [Training]: 100%|██████████| 774/774 [00:37<00:00, 20.68it/s]\n"
     ]
    },
    {
     "name": "stdout",
     "output_type": "stream",
     "text": [
      "Epoch 23/50 - Train Loss: 0.0718 - Val Acc: 0.9152\n"
     ]
    },
    {
     "name": "stderr",
     "output_type": "stream",
     "text": [
      "Epoch 24/50 [Training]: 100%|██████████| 774/774 [00:37<00:00, 20.70it/s]\n"
     ]
    },
    {
     "name": "stdout",
     "output_type": "stream",
     "text": [
      "Epoch 24/50 - Train Loss: 0.0688 - Val Acc: 0.9150\n"
     ]
    },
    {
     "name": "stderr",
     "output_type": "stream",
     "text": [
      "Epoch 25/50 [Training]: 100%|██████████| 774/774 [00:37<00:00, 20.72it/s]\n"
     ]
    },
    {
     "name": "stdout",
     "output_type": "stream",
     "text": [
      "Epoch 25/50 - Train Loss: 0.0677 - Val Acc: 0.9155\n"
     ]
    },
    {
     "name": "stderr",
     "output_type": "stream",
     "text": [
      "Epoch 26/50 [Training]: 100%|██████████| 774/774 [00:37<00:00, 20.60it/s]\n"
     ]
    },
    {
     "name": "stdout",
     "output_type": "stream",
     "text": [
      "Epoch 26/50 - Train Loss: 0.0652 - Val Acc: 0.9184\n"
     ]
    },
    {
     "name": "stderr",
     "output_type": "stream",
     "text": [
      "Epoch 27/50 [Training]: 100%|██████████| 774/774 [00:36<00:00, 20.99it/s]\n"
     ]
    },
    {
     "name": "stdout",
     "output_type": "stream",
     "text": [
      "Epoch 27/50 - Train Loss: 0.0663 - Val Acc: 0.9188\n"
     ]
    },
    {
     "name": "stderr",
     "output_type": "stream",
     "text": [
      "Epoch 28/50 [Training]: 100%|██████████| 774/774 [00:37<00:00, 20.74it/s]\n"
     ]
    },
    {
     "name": "stdout",
     "output_type": "stream",
     "text": [
      "Epoch 28/50 - Train Loss: 0.0661 - Val Acc: 0.9137\n"
     ]
    },
    {
     "name": "stderr",
     "output_type": "stream",
     "text": [
      "Epoch 29/50 [Training]: 100%|██████████| 774/774 [00:37<00:00, 20.73it/s]\n"
     ]
    },
    {
     "name": "stdout",
     "output_type": "stream",
     "text": [
      "Epoch 29/50 - Train Loss: 0.0610 - Val Acc: 0.9201\n"
     ]
    },
    {
     "name": "stderr",
     "output_type": "stream",
     "text": [
      "Epoch 30/50 [Training]: 100%|██████████| 774/774 [00:37<00:00, 20.88it/s]\n"
     ]
    },
    {
     "name": "stdout",
     "output_type": "stream",
     "text": [
      "Epoch 30/50 - Train Loss: 0.0650 - Val Acc: 0.9162\n"
     ]
    },
    {
     "name": "stderr",
     "output_type": "stream",
     "text": [
      "Epoch 31/50 [Training]: 100%|██████████| 774/774 [00:36<00:00, 20.96it/s]\n"
     ]
    },
    {
     "name": "stdout",
     "output_type": "stream",
     "text": [
      "Epoch 31/50 - Train Loss: 0.0630 - Val Acc: 0.9165\n"
     ]
    },
    {
     "name": "stderr",
     "output_type": "stream",
     "text": [
      "Epoch 32/50 [Training]: 100%|██████████| 774/774 [00:36<00:00, 21.04it/s]\n"
     ]
    },
    {
     "name": "stdout",
     "output_type": "stream",
     "text": [
      "Epoch 32/50 - Train Loss: 0.0622 - Val Acc: 0.9155\n"
     ]
    },
    {
     "name": "stderr",
     "output_type": "stream",
     "text": [
      "Epoch 33/50 [Training]: 100%|██████████| 774/774 [00:37<00:00, 20.69it/s]\n"
     ]
    },
    {
     "name": "stdout",
     "output_type": "stream",
     "text": [
      "Epoch 33/50 - Train Loss: 0.0604 - Val Acc: 0.9150\n"
     ]
    },
    {
     "name": "stderr",
     "output_type": "stream",
     "text": [
      "Epoch 34/50 [Training]: 100%|██████████| 774/774 [00:38<00:00, 20.26it/s]\n"
     ]
    },
    {
     "name": "stdout",
     "output_type": "stream",
     "text": [
      "Epoch 34/50 - Train Loss: 0.0611 - Val Acc: 0.9173\n"
     ]
    },
    {
     "name": "stderr",
     "output_type": "stream",
     "text": [
      "Epoch 35/50 [Training]: 100%|██████████| 774/774 [00:37<00:00, 20.81it/s]\n"
     ]
    },
    {
     "name": "stdout",
     "output_type": "stream",
     "text": [
      "Epoch 35/50 - Train Loss: 0.0589 - Val Acc: 0.9169\n"
     ]
    },
    {
     "name": "stderr",
     "output_type": "stream",
     "text": [
      "Epoch 36/50 [Training]: 100%|██████████| 774/774 [00:37<00:00, 20.73it/s]\n"
     ]
    },
    {
     "name": "stdout",
     "output_type": "stream",
     "text": [
      "Epoch 36/50 - Train Loss: 0.0608 - Val Acc: 0.9183\n"
     ]
    },
    {
     "name": "stderr",
     "output_type": "stream",
     "text": [
      "Epoch 37/50 [Training]: 100%|██████████| 774/774 [00:37<00:00, 20.60it/s]\n"
     ]
    },
    {
     "name": "stdout",
     "output_type": "stream",
     "text": [
      "Epoch 37/50 - Train Loss: 0.0566 - Val Acc: 0.9164\n"
     ]
    },
    {
     "name": "stderr",
     "output_type": "stream",
     "text": [
      "Epoch 38/50 [Training]: 100%|██████████| 774/774 [00:37<00:00, 20.69it/s]\n"
     ]
    },
    {
     "name": "stdout",
     "output_type": "stream",
     "text": [
      "Epoch 38/50 - Train Loss: 0.0592 - Val Acc: 0.9168\n"
     ]
    },
    {
     "name": "stderr",
     "output_type": "stream",
     "text": [
      "Epoch 39/50 [Training]: 100%|██████████| 774/774 [00:37<00:00, 20.81it/s]\n"
     ]
    },
    {
     "name": "stdout",
     "output_type": "stream",
     "text": [
      "Epoch 39/50 - Train Loss: 0.0565 - Val Acc: 0.9184\n"
     ]
    },
    {
     "name": "stderr",
     "output_type": "stream",
     "text": [
      "Epoch 40/50 [Training]: 100%|██████████| 774/774 [00:36<00:00, 21.23it/s]\n"
     ]
    },
    {
     "name": "stdout",
     "output_type": "stream",
     "text": [
      "Epoch 40/50 - Train Loss: 0.0546 - Val Acc: 0.9129\n"
     ]
    },
    {
     "name": "stderr",
     "output_type": "stream",
     "text": [
      "Epoch 41/50 [Training]: 100%|██████████| 774/774 [00:37<00:00, 20.88it/s]\n"
     ]
    },
    {
     "name": "stdout",
     "output_type": "stream",
     "text": [
      "Epoch 41/50 - Train Loss: 0.0568 - Val Acc: 0.9154\n"
     ]
    },
    {
     "name": "stderr",
     "output_type": "stream",
     "text": [
      "Epoch 42/50 [Training]: 100%|██████████| 774/774 [00:37<00:00, 20.75it/s]\n"
     ]
    },
    {
     "name": "stdout",
     "output_type": "stream",
     "text": [
      "Epoch 42/50 - Train Loss: 0.0549 - Val Acc: 0.9170\n"
     ]
    },
    {
     "name": "stderr",
     "output_type": "stream",
     "text": [
      "Epoch 43/50 [Training]: 100%|██████████| 774/774 [00:37<00:00, 20.81it/s]\n"
     ]
    },
    {
     "name": "stdout",
     "output_type": "stream",
     "text": [
      "Epoch 43/50 - Train Loss: 0.0551 - Val Acc: 0.9203\n"
     ]
    },
    {
     "name": "stderr",
     "output_type": "stream",
     "text": [
      "Epoch 44/50 [Training]: 100%|██████████| 774/774 [00:37<00:00, 20.92it/s]\n"
     ]
    },
    {
     "name": "stdout",
     "output_type": "stream",
     "text": [
      "Epoch 44/50 - Train Loss: 0.0544 - Val Acc: 0.9134\n"
     ]
    },
    {
     "name": "stderr",
     "output_type": "stream",
     "text": [
      "Epoch 45/50 [Training]: 100%|██████████| 774/774 [00:37<00:00, 20.76it/s]\n"
     ]
    },
    {
     "name": "stdout",
     "output_type": "stream",
     "text": [
      "Epoch 45/50 - Train Loss: 0.0544 - Val Acc: 0.9181\n"
     ]
    },
    {
     "name": "stderr",
     "output_type": "stream",
     "text": [
      "Epoch 46/50 [Training]: 100%|██████████| 774/774 [00:37<00:00, 20.78it/s]\n"
     ]
    },
    {
     "name": "stdout",
     "output_type": "stream",
     "text": [
      "Epoch 46/50 - Train Loss: 0.0564 - Val Acc: 0.9199\n"
     ]
    },
    {
     "name": "stderr",
     "output_type": "stream",
     "text": [
      "Epoch 47/50 [Training]: 100%|██████████| 774/774 [00:37<00:00, 20.43it/s]\n"
     ]
    },
    {
     "name": "stdout",
     "output_type": "stream",
     "text": [
      "Epoch 47/50 - Train Loss: 0.0545 - Val Acc: 0.9126\n"
     ]
    },
    {
     "name": "stderr",
     "output_type": "stream",
     "text": [
      "Epoch 48/50 [Training]: 100%|██████████| 774/774 [00:37<00:00, 20.65it/s]\n"
     ]
    },
    {
     "name": "stdout",
     "output_type": "stream",
     "text": [
      "Epoch 48/50 - Train Loss: 0.0518 - Val Acc: 0.9181\n"
     ]
    },
    {
     "name": "stderr",
     "output_type": "stream",
     "text": [
      "Epoch 49/50 [Training]: 100%|██████████| 774/774 [00:37<00:00, 20.79it/s]\n"
     ]
    },
    {
     "name": "stdout",
     "output_type": "stream",
     "text": [
      "Epoch 49/50 - Train Loss: 0.0494 - Val Acc: 0.9191\n"
     ]
    },
    {
     "name": "stderr",
     "output_type": "stream",
     "text": [
      "Epoch 50/50 [Training]: 100%|██████████| 774/774 [00:37<00:00, 20.81it/s]\n"
     ]
    },
    {
     "name": "stdout",
     "output_type": "stream",
     "text": [
      "Epoch 50/50 - Train Loss: 0.0511 - Val Acc: 0.9189\n"
     ]
    }
   ],
   "source": [
    "# pre-training \n",
    "train_losses = []\n",
    "val_accuracies = []\n",
    "\n",
    "# training (inside epoch loop)\n",
    "for epoch in range(NUM_EPOCHS):\n",
    "    model.train()\n",
    "    running_loss = 0.0\n",
    "    for inputs, labels in tqdm(train_loader, desc=f\"Epoch {epoch+1}/{NUM_EPOCHS} [Training]\"):\n",
    "        inputs, labels = inputs.to(device), labels.to(device)\n",
    "\n",
    "        optimizer.zero_grad()\n",
    "        outputs = model(inputs)\n",
    "        loss = criterion(outputs, labels)\n",
    "        loss.backward()\n",
    "        optimizer.step()\n",
    "\n",
    "        running_loss += loss.item()\n",
    "\n",
    "    # avg training loss over all batches in epoch \n",
    "    avg_train_loss = running_loss / len(train_loader)\n",
    "    train_losses.append(avg_train_loss)  # save training loss for this epoch \n",
    "\n",
    "    # validation\n",
    "    model.eval()\n",
    "    correct = 0\n",
    "    total = 0\n",
    "    with torch.no_grad():\n",
    "        for inputs, labels in val_loader:\n",
    "            inputs, labels = inputs.to(device), labels.to(device)\n",
    "            outputs = model(inputs)\n",
    "            _, preds = torch.max(outputs, 1)\n",
    "            correct += (preds == labels).sum().item()\n",
    "            total += labels.size(0)\n",
    "\n",
    "    # compute validation accuracy \n",
    "    val_acc = correct / total\n",
    "    val_accuracies.append(val_acc)  # save validation accuracy \n",
    "\n",
    "    print(f\"Epoch {epoch+1}/{NUM_EPOCHS} - Train Loss: {avg_train_loss:.4f} - Val Acc: {val_acc:.4f}\")\n",
    "\n",
    "    # save best model \n",
    "    if val_acc > best_val_acc:\n",
    "        best_val_acc = val_acc\n",
    "        torch.save(model.state_dict(), \"best_superdeep_mlp_final50.pth\")\n"
   ]
  },
  {
   "cell_type": "code",
   "execution_count": 32,
   "id": "136035dc",
   "metadata": {},
   "outputs": [
    {
     "data": {
      "image/png": "[encoded data removed]",
      "text/plain": [
       "<Figure size 1400x600 with 2 Axes>"
      ]
     },
     "metadata": {},
     "output_type": "display_data"
    }
   ],
   "source": [
    "import matplotlib.pyplot as plt\n",
    "\n",
    "# plot\n",
    "epochs = range(1, NUM_EPOCHS+1)\n",
    "\n",
    "plt.figure(figsize=(14,6))\n",
    "\n",
    "# plot training loss\n",
    "plt.subplot(1,2,1)\n",
    "plt.plot(epochs, train_losses, label='Training Loss')\n",
    "plt.title('Training Loss over Epochs')\n",
    "plt.xlabel('Epoch')\n",
    "plt.ylabel('Loss')\n",
    "plt.grid(True)\n",
    "plt.legend()\n",
    "\n",
    "# plot validation accuracy\n",
    "plt.subplot(1,2,2)\n",
    "plt.plot(epochs, val_accuracies, label='Validation Accuracy', color='green')\n",
    "plt.title('Validation Accuracy over Epochs')\n",
    "plt.xlabel('Epoch')\n",
    "plt.ylabel('Accuracy')\n",
    "plt.grid(True)\n",
    "plt.legend()\n",
    "\n",
    "plt.tight_layout() # adjust spacing between plots \n",
    "plt.show() # display\n"
   ]
  },
  {
   "cell_type": "markdown",
   "id": "5bc7b6b5",
   "metadata": {},
   "source": [
    "### Left plot (Training Loss vs Epoch):\n",
    "\n",
    "Training loss steadily decreased over the epochs, showing that the model kept improving its fitting to the training data.\n",
    "\n",
    "No sudden spikes → indicates stable training.\n",
    "\n",
    "### Right plot (Validation Accuracy vs Epoch):\n",
    "\n",
    "Validation accuracy stayed high (~91%-92%) after around 10-15 epochs.\n",
    "\n",
    "Some fluctuation is normal, but overall it's stable and not falling.\n",
    "\n",
    "No clear sign of overfitting (validation accuracy does not collapse while training loss goes down for example)."
   ]
  },
  {
   "cell_type": "code",
   "execution_count": 3,
   "id": "09baa20c",
   "metadata": {},
   "outputs": [
    {
     "name": "stdout",
     "output_type": "stream",
     "text": [
      "Collecting seaborn\n",
      "  Downloading seaborn-0.13.2-py3-none-any.whl.metadata (5.4 kB)\n",
      "Requirement already satisfied: numpy!=1.24.0,>=1.20 in ./wavenv/lib/python3.9/site-packages (from seaborn) (2.0.2)\n",
      "Requirement already satisfied: pandas>=1.2 in ./wavenv/lib/python3.9/site-packages (from seaborn) (2.2.3)\n",
      "Requirement already satisfied: matplotlib!=3.6.1,>=3.4 in ./wavenv/lib/python3.9/site-packages (from seaborn) (3.9.4)\n",
      "Requirement already satisfied: contourpy>=1.0.1 in ./wavenv/lib/python3.9/site-packages (from matplotlib!=3.6.1,>=3.4->seaborn) (1.3.0)\n",
      "Requirement already satisfied: cycler>=0.10 in ./wavenv/lib/python3.9/site-packages (from matplotlib!=3.6.1,>=3.4->seaborn) (0.12.1)\n",
      "Requirement already satisfied: fonttools>=4.22.0 in ./wavenv/lib/python3.9/site-packages (from matplotlib!=3.6.1,>=3.4->seaborn) (4.57.0)\n",
      "Requirement already satisfied: kiwisolver>=1.3.1 in ./wavenv/lib/python3.9/site-packages (from matplotlib!=3.6.1,>=3.4->seaborn) (1.4.7)\n",
      "Requirement already satisfied: packaging>=20.0 in ./wavenv/lib/python3.9/site-packages (from matplotlib!=3.6.1,>=3.4->seaborn) (24.2)\n",
      "Requirement already satisfied: pillow>=8 in ./wavenv/lib/python3.9/site-packages (from matplotlib!=3.6.1,>=3.4->seaborn) (11.0.0)\n",
      "Requirement already satisfied: pyparsing>=2.3.1 in ./wavenv/lib/python3.9/site-packages (from matplotlib!=3.6.1,>=3.4->seaborn) (3.2.3)\n",
      "Requirement already satisfied: python-dateutil>=2.7 in ./wavenv/lib/python3.9/site-packages (from matplotlib!=3.6.1,>=3.4->seaborn) (2.9.0.post0)\n",
      "Requirement already satisfied: importlib-resources>=3.2.0 in ./wavenv/lib/python3.9/site-packages (from matplotlib!=3.6.1,>=3.4->seaborn) (6.5.2)\n",
      "Requirement already satisfied: pytz>=2020.1 in ./wavenv/lib/python3.9/site-packages (from pandas>=1.2->seaborn) (2025.2)\n",
      "Requirement already satisfied: tzdata>=2022.7 in ./wavenv/lib/python3.9/site-packages (from pandas>=1.2->seaborn) (2025.2)\n",
      "Requirement already satisfied: zipp>=3.1.0 in ./wavenv/lib/python3.9/site-packages (from importlib-resources>=3.2.0->matplotlib!=3.6.1,>=3.4->seaborn) (3.21.0)\n",
      "Requirement already satisfied: six>=1.5 in ./wavenv/lib/python3.9/site-packages (from python-dateutil>=2.7->matplotlib!=3.6.1,>=3.4->seaborn) (1.17.0)\n",
      "Downloading seaborn-0.13.2-py3-none-any.whl (294 kB)\n",
      "Installing collected packages: seaborn\n",
      "Successfully installed seaborn-0.13.2\n"
     ]
    }
   ],
   "source": [
    "import sys\n",
    "!{sys.executable} -m pip install seaborn\n"
   ]
  },
  {
   "cell_type": "code",
   "execution_count": 8,
   "id": "97e933a2",
   "metadata": {},
   "outputs": [
    {
     "name": "stdout",
     "output_type": "stream",
     "text": [
      "Final Test Accuracy: 0.9078\n",
      "\n",
      "Classification Report:\n",
      "              precision    recall  f1-score   support\n",
      "\n",
      "        Fake       0.93      0.90      0.92       639\n",
      "        Real       0.88      0.92      0.90       500\n",
      "\n",
      "    accuracy                           0.91      1139\n",
      "   macro avg       0.91      0.91      0.91      1139\n",
      "weighted avg       0.91      0.91      0.91      1139\n",
      "\n"
     ]
    },
    {
     "data": {
      "image/png": "[encoded data removed]",
      "text/plain": [
       "<Figure size 600x600 with 1 Axes>"
      ]
     },
     "metadata": {},
     "output_type": "display_data"
    }
   ],
   "source": [
    "# re-importing required libraries\n",
    "import torch\n",
    "import torch.nn as nn\n",
    "from torch.utils.data import DataLoader\n",
    "import matplotlib.pyplot as plt\n",
    "from sklearn.metrics import classification_report, confusion_matrix\n",
    "import seaborn as sns\n",
    "import numpy as np\n",
    "import os\n",
    "\n",
    "# device check\n",
    "device = torch.device('cuda' if torch.cuda.is_available() else 'cpu')\n",
    "\n",
    "# recreate the model class to load saved weights \n",
    "class SuperDeepMLPClassifier(nn.Module):\n",
    "    def __init__(self, input_dim, dropout_p=0.3):\n",
    "        super(SuperDeepMLPClassifier, self).__init__()\n",
    "        self.net = nn.Sequential(\n",
    "            nn.Linear(input_dim, 768),\n",
    "            nn.BatchNorm1d(768),\n",
    "            nn.ReLU(),\n",
    "            nn.Dropout(dropout_p),\n",
    "            nn.Linear(768, 512),\n",
    "            nn.BatchNorm1d(512),\n",
    "            nn.ReLU(),\n",
    "            nn.Dropout(dropout_p),\n",
    "            nn.Linear(512, 256),\n",
    "            nn.BatchNorm1d(256),\n",
    "            nn.ReLU(),\n",
    "            nn.Dropout(dropout_p),\n",
    "            nn.Linear(256, 128),\n",
    "            nn.BatchNorm1d(128),\n",
    "            nn.ReLU(),\n",
    "            nn.Dropout(dropout_p),\n",
    "            nn.Linear(128, 2)\n",
    "        )\n",
    "        \n",
    "    def forward(self, x):\n",
    "        return self.net(x)\n",
    "\n",
    "# load model and weights\n",
    "input_dim = 768\n",
    "model = SuperDeepMLPClassifier(input_dim=input_dim, dropout_p=0.3).to(device)\n",
    "model.load_state_dict(torch.load(\"best_superdeep_mlp_final50.pth\"))\n",
    "model.eval()\n",
    "\n",
    "# reload test dataset\n",
    "# redefine DeepfakeAudioDataset class\n",
    "class DeepfakeAudioDataset(torch.utils.data.Dataset):\n",
    "    def __init__(self, embeddings_folder, split, label_to_idx):\n",
    "        self.paths = []\n",
    "        self.labels = []\n",
    "        self.label_to_idx = label_to_idx\n",
    "        self.split = split\n",
    "        \n",
    "        for file in os.listdir(embeddings_folder):\n",
    "            if file.endswith(\".pt\"):\n",
    "                data = torch.load(os.path.join(embeddings_folder, file))\n",
    "                if data.get(\"split\", None) == split:\n",
    "                    self.paths.append(os.path.join(embeddings_folder, file))\n",
    "                    self.labels.append(label_to_idx[data[\"label\"]])\n",
    "                    \n",
    "    def __len__(self):\n",
    "        return len(self.paths)\n",
    "    \n",
    "    def __getitem__(self, idx):\n",
    "        data = torch.load(self.paths[idx])\n",
    "        return data[\"embedding\"], self.labels[idx]\n",
    "\n",
    "# test loader\n",
    "EMBEDDINGS_DIR = \"deepfake_audio_project/data/processed_embeddings_norm\"\n",
    "label_to_idx = {'fake': 0, 'real': 1}\n",
    "\n",
    "test_dataset = DeepfakeAudioDataset(EMBEDDINGS_DIR, split=\"testing\", label_to_idx=label_to_idx)\n",
    "test_loader = DataLoader(test_dataset, batch_size=64, shuffle=False)\n",
    "\n",
    "# testing data\n",
    "all_preds = []\n",
    "all_labels = []\n",
    "correct = 0\n",
    "total = 0\n",
    "\n",
    "with torch.no_grad():\n",
    "    for inputs, labels in test_loader:\n",
    "        inputs, labels = inputs.to(device), labels.to(device)\n",
    "        outputs = model(inputs)\n",
    "        _, preds = torch.max(outputs, 1)\n",
    "        correct += (preds == labels).sum().item()\n",
    "        total += labels.size(0)\n",
    "        all_preds.append(preds.cpu())\n",
    "        all_labels.append(labels.cpu())\n",
    "\n",
    "test_acc = correct / total\n",
    "print(f\"Final Test Accuracy: {test_acc:.4f}\")\n",
    "\n",
    "# generate evaluation metrics and confusion Matrix\n",
    "all_preds = torch.cat(all_preds)\n",
    "all_labels = torch.cat(all_labels)\n",
    "\n",
    "print(\"\\nClassification Report:\")\n",
    "print(classification_report(all_labels, all_preds, target_names=['Fake', 'Real']))\n",
    "\n",
    "cm = confusion_matrix(all_labels, all_preds)\n",
    "plt.figure(figsize=(6,6))\n",
    "sns.heatmap(cm, annot=True, fmt='d', cmap='Blues', cbar=False,\n",
    "            xticklabels=['Fake', 'Real'], yticklabels=['Fake', 'Real'])\n",
    "plt.xlabel('Predicted')\n",
    "plt.ylabel('True')\n",
    "plt.title('Confusion Matrix')\n",
    "plt.show()\n"
   ]
  },
  {
   "cell_type": "markdown",
   "id": "385e1738",
   "metadata": {},
   "source": [
    "## Results: \n",
    "\n",
    "The model balances both classes quite well:\n",
    "Even though \"Fake\" and \"Real\" classes had slightly different numbers of samples, both achieved high F1-scores (~90%).\n",
    "\n",
    "Recall is higher for \"Real\" samples, meaning it catches most real samples correctly.\n",
    "\n",
    "Precision is higher for \"Fake\" samples, meaning that when it predicts \"Fake,\" it's more often correct.\n",
    "\n",
    "Balanced overall performance across both classes.\n",
    "\n",
    "After reloading and evaluating the \"for-norm\" model properly, the model achieves strong balanced performance, with over 91% accuracy and very high F1-scores for both classes.\n"
   ]
  },
  {
   "cell_type": "code",
   "execution_count": 9,
   "id": "5cc8ac11",
   "metadata": {},
   "outputs": [
    {
     "data": {
      "image/png": "[encoded data removed]",
      "text/plain": [
       "<Figure size 1000x500 with 1 Axes>"
      ]
     },
     "metadata": {},
     "output_type": "display_data"
    }
   ],
   "source": [
    "from sklearn.metrics import precision_score, recall_score, f1_score\n",
    "\n",
    "# precision, recall, F1 for each class\n",
    "precision = precision_score(all_labels, all_preds, average=None)\n",
    "recall = recall_score(all_labels, all_preds, average=None)\n",
    "f1 = f1_score(all_labels, all_preds, average=None)\n",
    "\n",
    "# setup for bar plot \n",
    "x = np.arange(2) # positions for fake and real \n",
    "labels = ['Fake', 'Real']\n",
    "\n",
    "# plot bar \n",
    "plt.figure(figsize=(10,5))\n",
    "plt.bar(x-0.2, precision, width=0.2, label='Precision')\n",
    "plt.bar(x, recall, width=0.2, label='Recall')\n",
    "plt.bar(x+0.2, f1, width=0.2, label='F1-Score')\n",
    "plt.xticks(x, labels)\n",
    "plt.ylim(0,1)\n",
    "plt.title('Per-Class Metrics')\n",
    "plt.legend()\n",
    "plt.grid(True)\n",
    "plt.show()\n"
   ]
  },
  {
   "cell_type": "code",
   "execution_count": 10,
   "id": "bda4f894",
   "metadata": {},
   "outputs": [
    {
     "name": "stdout",
     "output_type": "stream",
     "text": [
      "Total misclassified samples: 105 / 1139\n",
      "Real -> Fake errors: 41\n",
      "Fake -> Real errors: 64\n"
     ]
    }
   ],
   "source": [
    "# find misclassified samples - wrong predictions \n",
    "misclassified = (all_preds != all_labels)\n",
    "\n",
    "print(f\"Total misclassified samples: {misclassified.sum().item()} / {len(all_labels)}\")\n",
    "\n",
    "# how many were real misclassified as fake?\n",
    "real_mistakes = ((all_labels == 1) & (all_preds == 0)).sum().item()\n",
    "# how many fake misclassified as real?\n",
    "fake_mistakes = ((all_labels == 0) & (all_preds == 1)).sum().item()\n",
    "\n",
    "print(f\"Real -> Fake errors: {real_mistakes}\")\n",
    "print(f\"Fake -> Real errors: {fake_mistakes}\")\n"
   ]
  },
  {
   "cell_type": "markdown",
   "id": "bb645f21",
   "metadata": {},
   "source": [
    "Real → Fake errors (41 samples):\n",
    "\n",
    "These are real human voice recordings that the model incorrectly classified as fake.\n",
    "\n",
    "This is important because mistakenly flagging real users as fake could lead to trust issues if the model were deployed.\n",
    "\n",
    "Fake → Real errors (64 samples):\n",
    "\n",
    "These are synthetic (deepfake) audios that the model incorrectly classified as real.\n",
    "\n",
    "This could be more dangerous because it means a fake audio would be treated as authentic.\n",
    "\n",
    "The model makes slightly more Fake → Real errors than Real → Fake errors.\n",
    "\n",
    "However, both types of errors are relatively balanced, which is a good sign that the model is not heavily biased toward either class.\n",
    "\n",
    "The overall error rate (~9%) is low, considering the difficulty of the task!\n",
    "\n"
   ]
  },
  {
   "cell_type": "code",
   "execution_count": 11,
   "id": "fdd8f14a",
   "metadata": {},
   "outputs": [],
   "source": [
    "import numpy as np\n",
    "import matplotlib.pyplot as plt\n",
    "from sklearn.metrics import roc_curve, auc, precision_recall_curve, confusion_matrix, ConfusionMatrixDisplay\n"
   ]
  },
  {
   "cell_type": "markdown",
   "id": "4bc214d1",
   "metadata": {},
   "source": [
    "Recompute probabilities correctly using softmax instead of relying on raw logits.\n",
    "\n",
    "Instead of saving raw model outputs, I am :\n",
    "\n",
    "Getting the predicted class (argmax over 2 logits).\n",
    "\n",
    "Getting the probability for the \"real\" class (index 1).\n",
    "\n",
    "This is crucial for metrics like ROC AUC, Precision-Recall curves, and threshold analysis.\n",
    "\n",
    "## Why?\n",
    "\n",
    "* Previously, your all_probs were wrongly shaped (batch_size, 2) and I was trying to index improperly.\n",
    "* Now, I extract the class 1 probability properly, making it a (batch_size, ) vector aligned with what metrics like roc_curve() expect.\n",
    "* This fixes ROC/AUC and all downstream thresholding analysis."
   ]
  },
  {
   "cell_type": "code",
   "execution_count": 22,
   "id": "5a0cd992",
   "metadata": {},
   "outputs": [],
   "source": [
    "# recompute all_probs properly\n",
    "import torch.nn.functional as F\n",
    "\n",
    "# evaluation mode \n",
    "model.eval()\n",
    "all_labels = []\n",
    "all_preds = []\n",
    "all_probs = []\n",
    "\n",
    "# disable gradient calculations for efficiency \n",
    "with torch.no_grad():You recompute probabilities correctly using softmax instead of relying on raw logits.\n",
    "\n",
    "Instead of saving raw model outputs, you are:\n",
    "\n",
    "Getting the predicted class (argmax over 2 logits).\n",
    "\n",
    "Getting the probability for the \"real\" class (index 1).\n",
    "\n",
    "This is crucial for metrics like ROC AUC, Precision-Recall curves, and threshold analysis.\n",
    "\n",
    "\n",
    "    for inputs, labels in test_loader:\n",
    "        inputs, labels = inputs.to(device), labels.to(device)\n",
    "        outputs = model(inputs)  # shape: (batch_size, 2)\n",
    "        probs = F.softmax(outputs, dim=1)[:, 1]  # select probability of class 1 (\"real\")\n",
    "        preds = torch.argmax(outputs, dim=1)\n",
    "\n",
    "        all_labels.append(labels.cpu())\n",
    "        all_preds.append(preds.cpu())\n",
    "        all_probs.append(probs.cpu())\n",
    "\n",
    "# flatten collected batches into tensors \n",
    "all_labels = torch.cat(all_labels)\n",
    "all_preds = torch.cat(all_preds)\n",
    "all_probs = torch.cat(all_probs)\n"
   ]
  },
  {
   "cell_type": "code",
   "execution_count": 23,
   "id": "0bae1016",
   "metadata": {},
   "outputs": [
    {
     "data": {
      "image/png": "[encoded data removed]",
      "text/plain": [
       "<Figure size 640x480 with 1 Axes>"
      ]
     },
     "metadata": {},
     "output_type": "display_data"
    }
   ],
   "source": [
    "probs = all_probs.numpy()\n",
    "\n",
    "# ROC curve\n",
    "fpr, tpr, thresholds = roc_curve(all_labels, probs)\n",
    "roc_auc = auc(fpr, tpr)\n",
    "\n",
    "plt.figure()\n",
    "plt.plot(fpr, tpr, color='darkorange', lw=2, label=f'ROC curve (area = {roc_auc:.2f})')\n",
    "plt.plot([0, 1], [0, 1], color='navy', lw=2, linestyle='--')\n",
    "plt.xlim([0.0, 1.0])\n",
    "plt.ylim([0.0, 1.05])\n",
    "plt.xlabel('False Positive Rate')\n",
    "plt.ylabel('True Positive Rate')\n",
    "plt.title('Receiver Operating Characteristic (ROC)')\n",
    "plt.legend(loc=\"lower right\")\n",
    "plt.grid()\n",
    "plt.show()\n"
   ]
  },
  {
   "cell_type": "markdown",
   "id": "2254c7d5",
   "metadata": {},
   "source": [
    "* X-axis (horizontal) = False Positive Rate\n",
    "(How often the model incorrectly predicts Real when it’s actually Fake.)\n",
    "\n",
    "* Y-axis (vertical) = True Positive Rate\n",
    "(How often the model correctly predicts Real when it actually is Real.)\n",
    "\n",
    "This orange curve shows the trade-off between catching real samples (True Positives) and avoiding false alarms (False Positives) at different thresholds.\n",
    "\n",
    "The higher and more to the top-left the curve is, the better the model is.\n",
    "\n",
    "Our ROC curve bends sharply toward the top-left, which is great! it means the model is catching real samples without too many false alarms.\n",
    "\n",
    "The dashed diagonal line is the \"random guessing\" line (basically 50/50 flipping a coin).\n",
    "\n",
    "If our curve was close to this line, it would mean the model is no better than random.\n",
    "\n",
    "Since the curve is way above this line, the model is clearly much better than random!\n",
    "\n",
    "The AUC (Area Under Curve) score.\n",
    "\n",
    "AUC = 0.97 is extremely good, it means that 97% of the time, the model ranks a random real sample higher than a random fake one."
   ]
  },
  {
   "cell_type": "code",
   "execution_count": 25,
   "id": "3a65cc10",
   "metadata": {
    "scrolled": true
   },
   "outputs": [
    {
     "data": {
      "image/png": "[encoded data removed]",
      "text/plain": [
       "<Figure size 800x600 with 1 Axes>"
      ]
     },
     "metadata": {},
     "output_type": "display_data"
    }
   ],
   "source": [
    "# precision-recall curve (Binary Output Model)\n",
    "\n",
    "from sklearn.metrics import precision_recall_curve, average_precision_score\n",
    "import matplotlib.pyplot as plt\n",
    "\n",
    "# precision, recall, thresholds\n",
    "precision, recall, thresholds = precision_recall_curve(all_labels, all_probs)  # no [:,1] needed\n",
    "\n",
    "# average precision score\n",
    "avg_precision = average_precision_score(all_labels, all_probs)\n",
    "\n",
    "#plot\n",
    "plt.figure(figsize=(8,6))\n",
    "plt.plot(recall, precision, color='green', label=f\"AP={avg_precision:.2f}\")\n",
    "plt.xlabel('Recall')\n",
    "plt.ylabel('Precision')\n",
    "plt.title('Precision-Recall Curve')\n",
    "plt.legend()\n",
    "plt.grid(True)\n",
    "plt.show()\n"
   ]
  },
  {
   "cell_type": "markdown",
   "id": "11583239",
   "metadata": {},
   "source": [
    "X-axis (horizontal) = Recall\n",
    "(How many of the actual \"Real\" samples your model caught.)\n",
    "\n",
    "Y-axis (vertical) = Precision\n",
    "(Out of everything the model predicted as \"Real\", how many were actually correct.)\n",
    "\n",
    "The green curve shows the trade-off between precision and recall.\n",
    "\n",
    "We want the curve to be high and wide — ideally staying near Precision = 1.0 across different Recall levels.\n",
    "\n",
    "In our case:\n",
    "\n",
    "Precision is very high for most of the Recall range (close to 1.0).\n",
    "\n",
    "It only starts dropping towards the very high Recall region (close to Recall = 1.0).\n",
    "\n",
    "This is meant to be normal, at extreme recall levels, models sometimes make more mistakes.\n",
    "\n",
    "AP means Average Precision: it summarizes the shape of this curve into a single number.\n",
    "\n",
    "AP = 0.97 is amazing!!!!\n",
    "\n",
    "It tells us the model maintains a very good balance between not missing real samples (high recall) and being very accurate when it says something is real (high precision)"
   ]
  },
  {
   "cell_type": "markdown",
   "id": "913fe99e",
   "metadata": {},
   "source": [
    "## Best Threshold using F1-Score\n",
    "\n",
    "Goal: We want to find the optimal decision threshold.\n",
    "\n",
    "Instead of using the default threshold (like 0.5 for binary classification), maybe a better threshold exists that balances precision and recall more effectively.\n",
    "\n",
    "### How?\n",
    "\n",
    "For each threshold in the model's outputs:\n",
    "\n",
    "* Calculate the F1-score.\n",
    "\n",
    "* F1-score is the mean of precision and recall\n",
    " \n",
    "So! Find the threshold where F1-score is highest.\n"
   ]
  },
  {
   "cell_type": "code",
   "execution_count": 26,
   "id": "839df985",
   "metadata": {},
   "outputs": [
    {
     "name": "stdout",
     "output_type": "stream",
     "text": [
      "Best threshold based on F1 score: 0.7812\n",
      "Best F1 score: 0.9028\n"
     ]
    }
   ],
   "source": [
    "import numpy as np\n",
    "\n",
    "# find best threshold (where precision and recall are most balanced)\n",
    "f1_scores = 2 * (precision * recall) / (precision + recall + 1e-8)  # small epsilon to avoid divide by zero\n",
    "best_idx = np.argmax(f1_scores)\n",
    "best_threshold = thresholds[best_idx]\n",
    "\n",
    "print(f\"Best threshold based on F1 score: {best_threshold:.4f}\")\n",
    "print(f\"Best F1 score: {f1_scores[best_idx]:.4f}\")\n"
   ]
  },
  {
   "cell_type": "code",
   "execution_count": 27,
   "id": "4f60e8aa",
   "metadata": {},
   "outputs": [
    {
     "name": "stdout",
     "output_type": "stream",
     "text": [
      "Classification Report at Best Threshold:\n",
      "              precision    recall  f1-score   support\n",
      "\n",
      "        Fake       0.92      0.93      0.93       639\n",
      "        Real       0.91      0.89      0.90       500\n",
      "\n",
      "    accuracy                           0.92      1139\n",
      "   macro avg       0.92      0.91      0.91      1139\n",
      "weighted avg       0.92      0.92      0.92      1139\n",
      "\n"
     ]
    },
    {
     "data": {
      "image/png": "[encoded data removed]",
      "text/plain": [
       "<Figure size 600x600 with 1 Axes>"
      ]
     },
     "metadata": {},
     "output_type": "display_data"
    }
   ],
   "source": [
    "from sklearn.metrics import classification_report, confusion_matrix\n",
    "\n",
    "# adjust predictions at best threshold\n",
    "adjusted_preds = (all_probs >= best_threshold).long()\n",
    "\n",
    "# classification report\n",
    "print(\"Classification Report at Best Threshold:\")\n",
    "print(classification_report(all_labels, adjusted_preds, target_names=['Fake', 'Real']))\n",
    "\n",
    "# confusion matrix\n",
    "cm_best = confusion_matrix(all_labels, adjusted_preds)\n",
    "\n",
    "plt.figure(figsize=(6,6))\n",
    "sns.heatmap(cm_best, annot=True, fmt='d', cmap='Blues', cbar=False,\n",
    "            xticklabels=['Fake', 'Real'], yticklabels=['Fake', 'Real'])\n",
    "plt.xlabel('Predicted')\n",
    "plt.ylabel('True')\n",
    "plt.title(f'Confusion Matrix at Optimal Threshold ({best_threshold:.2f})')\n",
    "plt.grid(False)\n",
    "plt.show()\n"
   ]
  },
  {
   "cell_type": "markdown",
   "id": "53d936ec",
   "metadata": {},
   "source": [
    "## Results:\n",
    "\n",
    "Instead of using the default threshold (0.5) to decide whether an audio clip is Fake or Real,\n",
    "we used the new best threshold we found earlier (based on the highest F1 score).\n",
    "\n",
    "This threshold was chosen to balance precision and recall, meaning we now catch more real/fake samples accurately without sacrificing too much either way.\n",
    "\n",
    "Fake Detection:\n",
    "Now we are correctly identifying more fake samples (higher recall) while maintaining very strong precision.\n",
    "\n",
    "Real Detection:\n",
    "Also correctly identifying real samples with slightly better balance than before (higher F1).\n",
    "\n",
    "Balanced Model:\n",
    "Compared to previous thresholds, now both classes are treated more fairly, and no class is severely underperforming.\n",
    "\n",
    "Very strong diagonal dominance (most samples are correctly classified).\n",
    "\n",
    "Small error margin: only about 8%-10% misclassification, meaning the model is highly confident in distinguishing Fake and Real.\n",
    "\n",
    "Slightly more Fake->Real mistakes than Real->Fake, but overall it's well balanced.\n",
    "\n"
   ]
  },
  {
   "cell_type": "code",
   "execution_count": 28,
   "id": "45d42421",
   "metadata": {},
   "outputs": [
    {
     "data": {
      "image/png": "[encoded data removed]",
      "text/plain": [
       "<Figure size 800x500 with 1 Axes>"
      ]
     },
     "metadata": {},
     "output_type": "display_data"
    }
   ],
   "source": [
    "# plotting F1 Score vs Threshold\n",
    "plt.figure(figsize=(8, 5))\n",
    "plt.plot(thresholds, f1_scores[:-1], marker='o')\n",
    "plt.axvline(x=best_threshold, color='red', linestyle='--', label=f'Best Threshold = {best_threshold:.2f}')\n",
    "plt.title('F1 Score vs Threshold')\n",
    "plt.xlabel('Threshold')\n",
    "plt.ylabel('F1 Score')\n",
    "plt.legend()\n",
    "plt.grid()\n",
    "plt.show()\n"
   ]
  },
  {
   "cell_type": "markdown",
   "id": "60f9321f",
   "metadata": {},
   "source": [
    "After applying the optimized threshold (0.78), we did a final misclassification analysis.\n",
    "\n",
    "Adjusted Predictions: Instead of using the default 0.5 decision boundary, we used a threshold of 0.78 for better F1 balance.\n",
    "\n",
    "Recomputed Errors: We compared the adjusted predictions with true labels to find misclassifications.\n",
    "\n",
    "* The X-axis represents different thresholds between 0 and 1.\n",
    "\n",
    "* The Y-axis shows the F1 Score at each threshold.\n",
    "\n",
    "Each blue dot is the F1 score achieved at a particular threshold.\n",
    "\n",
    "Early Thresholds (close to 0):\n",
    "\n",
    "* Very low F1 scores.\n",
    "\n",
    "* The model predicts everything as \"real,\" so lots of wrong predictions.\n",
    "\n",
    "Middle Range Thresholds (~0.6 to ~0.85):\n",
    "\n",
    "* F1 scores are at their highest.\n",
    "\n",
    "* This is where the model balances precision (correctness of positive predictions) and recall (ability to find all positives).\n",
    "\n",
    "* Peak F1 Score happens around threshold = 0.78.\n",
    "\n",
    "This means if we classify a sample as \"real\" only if the probability is above 0.78, we get the best precision-recall tradeoff.\n",
    "\n",
    "High Thresholds (close to 1):\n",
    "\n",
    "* F1 score drops again.\n",
    "\n",
    "* The model becomes too strict and starts misclassifying too many \"real\" examples as \"fake.\"\n",
    "\n",
    "Red Vertical Line:\n",
    "* Marks the optimal threshold at 0.78.\n",
    "\n",
    "* At this threshold, F1 score is maximized.\n",
    "\n",
    "Best balance between: Catching real samples / Avoiding false alarms"
   ]
  },
  {
   "cell_type": "code",
   "execution_count": 30,
   "id": "6a0b1e43",
   "metadata": {},
   "outputs": [
    {
     "name": "stdout",
     "output_type": "stream",
     "text": [
      "Total misclassified samples: 96 / 1139\n",
      "Real -> Fake errors: 54\n",
      "Fake -> Real errors: 42\n"
     ]
    }
   ],
   "source": [
    "# recompute misclassifications at best threshold\n",
    "wrong_indices = (adjusted_preds != all_labels)\n",
    "\n",
    "total_errors = wrong_indices.sum().item()\n",
    "total_samples = len(all_labels)\n",
    "\n",
    "# count types of errors\n",
    "real_as_fake = ((all_labels == 1) & (adjusted_preds == 0)).sum().item()\n",
    "fake_as_real = ((all_labels == 0) & (adjusted_preds == 1)).sum().item()\n",
    "\n",
    "print(f\"Total misclassified samples: {total_errors} / {total_samples}\")\n",
    "print(f\"Real -> Fake errors: {real_as_fake}\")\n",
    "print(f\"Fake -> Real errors: {fake_as_real}\")\n"
   ]
  },
  {
   "cell_type": "code",
   "execution_count": null,
   "id": "01c807ae",
   "metadata": {},
   "outputs": [],
   "source": [
    "from google.colab import files\n",
    "\n",
    "files.download('best_superdeep_mlp_final50.pth')\n"
   ]
  }
 ],
 "metadata": {
  "kernelspec": {
   "display_name": "Python (wavenv)",
   "language": "python",
   "name": "wavenv"
  },
  "language_info": {
   "codemirror_mode": {
    "name": "ipython",
    "version": 3
   },
   "file_extension": ".py",
   "mimetype": "text/x-python",
   "name": "python",
   "nbconvert_exporter": "python",
   "pygments_lexer": "ipython3",
   "version": "3.9.5"
  }
 },
 "nbformat": 4,
 "nbformat_minor": 5
}
